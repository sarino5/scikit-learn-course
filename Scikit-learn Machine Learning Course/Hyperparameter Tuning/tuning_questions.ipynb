{
 "cells": [
  {
   "cell_type": "code",
   "execution_count": 1,
   "metadata": {},
   "outputs": [],
   "source": [
    "import pandas as pd\n",
    "\n",
    "penguins = pd.read_csv(\"../datasets/penguins.csv\")\n",
    "\n",
    "columns = [\"Body Mass (g)\", \"Flipper Length (mm)\", \"Culmen Length (mm)\"]\n",
    "target_name = \"Species\"\n",
    "\n",
    "# Remove lines with missing values for the columns of interestes\n",
    "penguins_non_missing = penguins[columns + [target_name]].dropna()\n",
    "\n",
    "data = penguins_non_missing[columns]\n",
    "target = penguins_non_missing[target_name]"
   ]
  },
  {
   "cell_type": "code",
   "execution_count": 2,
   "metadata": {},
   "outputs": [
    {
     "data": {
      "text/plain": [
       "Adelie Penguin (Pygoscelis adeliae)          151\n",
       "Gentoo penguin (Pygoscelis papua)            123\n",
       "Chinstrap penguin (Pygoscelis antarctica)     68\n",
       "Name: Species, dtype: int64"
      ]
     },
     "execution_count": 2,
     "metadata": {},
     "output_type": "execute_result"
    }
   ],
   "source": [
    "target.value_counts()"
   ]
  },
  {
   "cell_type": "code",
   "execution_count": 2,
   "metadata": {},
   "outputs": [],
   "source": [
    "from sklearn.neighbors import KNeighborsClassifier\n",
    "from sklearn.preprocessing import StandardScaler\n",
    "from sklearn.pipeline import Pipeline\n",
    "model = Pipeline(steps=[\n",
    "    (\"preprocessor\", StandardScaler()),\n",
    "    (\"classifier\", KNeighborsClassifier(n_neighbors=5)),\n",
    "])"
   ]
  },
  {
   "cell_type": "code",
   "execution_count": 4,
   "metadata": {},
   "outputs": [
    {
     "data": {
      "text/plain": [
       "{'memory': None,\n",
       " 'steps': [('preprocessor', StandardScaler()),\n",
       "  ('classifier', KNeighborsClassifier())],\n",
       " 'verbose': False,\n",
       " 'preprocessor': StandardScaler(),\n",
       " 'classifier': KNeighborsClassifier(),\n",
       " 'preprocessor__copy': True,\n",
       " 'preprocessor__with_mean': True,\n",
       " 'preprocessor__with_std': True,\n",
       " 'classifier__algorithm': 'auto',\n",
       " 'classifier__leaf_size': 30,\n",
       " 'classifier__metric': 'minkowski',\n",
       " 'classifier__metric_params': None,\n",
       " 'classifier__n_jobs': None,\n",
       " 'classifier__n_neighbors': 5,\n",
       " 'classifier__p': 2,\n",
       " 'classifier__weights': 'uniform'}"
      ]
     },
     "execution_count": 4,
     "metadata": {},
     "output_type": "execute_result"
    }
   ],
   "source": [
    "model.get_params()"
   ]
  },
  {
   "cell_type": "code",
   "execution_count": 3,
   "metadata": {
    "scrolled": true
   },
   "outputs": [
    {
     "data": {
      "text/plain": [
       "{'fit_time': array([0.00419283, 0.00304103, 0.00312972, 0.00299621, 0.00296903,\n",
       "        0.00298119, 0.00295615, 0.00296974, 0.00296736, 0.00296474]),\n",
       " 'score_time': array([0.002846  , 0.00255847, 0.00252151, 0.00252938, 0.00250554,\n",
       "        0.00251818, 0.00250673, 0.00250554, 0.00250649, 0.00249791]),\n",
       " 'test_score': array([1.        , 1.        , 1.        , 0.91880342, 0.88253968,\n",
       "        0.95238095, 0.97777778, 0.93015873, 0.90793651, 0.95238095])}"
      ]
     },
     "execution_count": 3,
     "metadata": {},
     "output_type": "execute_result"
    }
   ],
   "source": [
    "from sklearn.model_selection import cross_validate\n",
    "\n",
    "cv_result_bal =cross_validate(model, data, target, cv = 10, scoring='balanced_accuracy')\n",
    "cv_result_bal"
   ]
  },
  {
   "cell_type": "code",
   "execution_count": 4,
   "metadata": {
    "scrolled": true
   },
   "outputs": [
    {
     "name": "stdout",
     "output_type": "stream",
     "text": [
      "0.952 +/- 0.040\n"
     ]
    }
   ],
   "source": [
    "print(f\"{cv_result_bal['test_score'].mean():.3f} +/- {cv_result_bal['test_score'].std():.3f}\")"
   ]
  },
  {
   "cell_type": "code",
   "execution_count": 5,
   "metadata": {},
   "outputs": [],
   "source": [
    "from sklearn.preprocessing import MinMaxScaler\n",
    "from sklearn.preprocessing import QuantileTransformer\n",
    "from sklearn.preprocessing import PowerTransformer\n",
    "from sklearn.model_selection import GridSearchCV\n",
    "\n",
    "all_preprocessors = [\n",
    "    None,\n",
    "    StandardScaler(),\n",
    "    MinMaxScaler(),\n",
    "    QuantileTransformer(n_quantiles=100),\n",
    "    PowerTransformer(method=\"box-cox\"),\n",
    "]\n",
    "\n",
    "#n_neighbors = [5,51,101]\n",
    "\n",
    "#param_grid = {'preprocessor': all_preprocessors,\n",
    "#    'classifier__n_neighbors':tuple(n_neighbors)\n",
    "#}\n",
    "\n",
    "model_grid_search = GridSearchCV(model, \n",
    "                                 param_grid={\"preprocessor\": all_preprocessors,\n",
    "                                             \"classifier__n_neighbors\": [5, 51, 101]},)\n",
    "\n",
    "cv_result_bal =cross_validate(model_grid_search, data, target, cv = 10, scoring='balanced_accuracy', return_estimator= True)"
   ]
  },
  {
   "cell_type": "code",
   "execution_count": 7,
   "metadata": {},
   "outputs": [
    {
     "name": "stdout",
     "output_type": "stream",
     "text": [
      "Best parameter found on fold #1\n",
      "{'classifier__n_neighbors': 5, 'preprocessor': QuantileTransformer(n_quantiles=100)}\n",
      "Best parameter found on fold #2\n",
      "{'classifier__n_neighbors': 5, 'preprocessor': QuantileTransformer(n_quantiles=100)}\n",
      "Best parameter found on fold #3\n",
      "{'classifier__n_neighbors': 5, 'preprocessor': StandardScaler()}\n",
      "Best parameter found on fold #4\n",
      "{'classifier__n_neighbors': 5, 'preprocessor': MinMaxScaler()}\n",
      "Best parameter found on fold #5\n",
      "{'classifier__n_neighbors': 5, 'preprocessor': StandardScaler()}\n",
      "Best parameter found on fold #6\n",
      "{'classifier__n_neighbors': 5, 'preprocessor': QuantileTransformer(n_quantiles=100)}\n",
      "Best parameter found on fold #7\n",
      "{'classifier__n_neighbors': 5, 'preprocessor': QuantileTransformer(n_quantiles=100)}\n",
      "Best parameter found on fold #8\n",
      "{'classifier__n_neighbors': 5, 'preprocessor': QuantileTransformer(n_quantiles=100)}\n",
      "Best parameter found on fold #9\n",
      "{'classifier__n_neighbors': 5, 'preprocessor': MinMaxScaler()}\n",
      "Best parameter found on fold #10\n",
      "{'classifier__n_neighbors': 5, 'preprocessor': QuantileTransformer(n_quantiles=100)}\n"
     ]
    }
   ],
   "source": [
    "for fold_idx, estimator in enumerate(cv_result_bal[\"estimator\"]):\n",
    "    print(f\"Best parameter found on fold #{fold_idx + 1}\")\n",
    "    print(f\"{estimator.best_params_}\")"
   ]
  },
  {
   "cell_type": "code",
   "execution_count": null,
   "metadata": {},
   "outputs": [],
   "source": [
    "cv_result_bal"
   ]
  },
  {
   "cell_type": "code",
   "execution_count": 8,
   "metadata": {},
   "outputs": [
    {
     "data": {
      "text/plain": [
       "{'mean_fit_time': array([0.00186415, 0.00289514, 0.00273228, 0.00351985, 0.00524123,\n",
       "        0.0017622 , 0.00286286, 0.00271435, 0.00350351, 0.00523355,\n",
       "        0.00176179, 0.00286102, 0.00274799, 0.00356288, 0.0053    ]),\n",
       " 'std_fit_time': array([1.67665458e-04, 2.27522914e-05, 1.58278336e-05, 3.62036944e-05,\n",
       "        2.85558642e-04, 7.29950321e-06, 1.96813201e-05, 7.76146775e-06,\n",
       "        2.68005815e-05, 2.97853850e-04, 7.45320274e-06, 1.14107640e-05,\n",
       "        3.07303791e-05, 8.43799696e-06, 2.95511376e-04]),\n",
       " 'mean_score_time': array([0.00246036, 0.00244515, 0.00245159, 0.00256536, 0.00255234,\n",
       "        0.00252199, 0.00263147, 0.00263143, 0.00278769, 0.00274069,\n",
       "        0.00267751, 0.00281615, 0.0028367 , 0.00299675, 0.00298202]),\n",
       " 'std_score_time': array([9.68334205e-05, 1.30987306e-05, 4.56263710e-05, 1.11009134e-05,\n",
       "        3.05475613e-05, 1.96954527e-05, 2.75762395e-05, 1.04768622e-05,\n",
       "        6.92088686e-05, 1.50041076e-05, 3.03715794e-05, 2.04517564e-05,\n",
       "        3.60302461e-05, 2.45781804e-05, 3.96770709e-05]),\n",
       " 'param_classifier__n_neighbors': masked_array(data=[5, 5, 5, 5, 5, 51, 51, 51, 51, 51, 101, 101, 101, 101,\n",
       "                    101],\n",
       "              mask=[False, False, False, False, False, False, False, False,\n",
       "                    False, False, False, False, False, False, False],\n",
       "        fill_value='?',\n",
       "             dtype=object),\n",
       " 'param_preprocessor': masked_array(data=[None, StandardScaler(), MinMaxScaler(),\n",
       "                    QuantileTransformer(n_quantiles=100),\n",
       "                    PowerTransformer(method='box-cox'), None,\n",
       "                    StandardScaler(), MinMaxScaler(),\n",
       "                    QuantileTransformer(n_quantiles=100),\n",
       "                    PowerTransformer(method='box-cox'), None,\n",
       "                    StandardScaler(), MinMaxScaler(),\n",
       "                    QuantileTransformer(n_quantiles=100),\n",
       "                    PowerTransformer(method='box-cox')],\n",
       "              mask=[False, False, False, False, False, False, False, False,\n",
       "                    False, False, False, False, False, False, False],\n",
       "        fill_value='?',\n",
       "             dtype=object),\n",
       " 'params': [{'classifier__n_neighbors': 5, 'preprocessor': None},\n",
       "  {'classifier__n_neighbors': 5, 'preprocessor': StandardScaler()},\n",
       "  {'classifier__n_neighbors': 5, 'preprocessor': MinMaxScaler()},\n",
       "  {'classifier__n_neighbors': 5,\n",
       "   'preprocessor': QuantileTransformer(n_quantiles=100)},\n",
       "  {'classifier__n_neighbors': 5,\n",
       "   'preprocessor': PowerTransformer(method='box-cox')},\n",
       "  {'classifier__n_neighbors': 51, 'preprocessor': None},\n",
       "  {'classifier__n_neighbors': 51, 'preprocessor': StandardScaler()},\n",
       "  {'classifier__n_neighbors': 51, 'preprocessor': MinMaxScaler()},\n",
       "  {'classifier__n_neighbors': 51,\n",
       "   'preprocessor': QuantileTransformer(n_quantiles=100)},\n",
       "  {'classifier__n_neighbors': 51,\n",
       "   'preprocessor': PowerTransformer(method='box-cox')},\n",
       "  {'classifier__n_neighbors': 101, 'preprocessor': None},\n",
       "  {'classifier__n_neighbors': 101, 'preprocessor': StandardScaler()},\n",
       "  {'classifier__n_neighbors': 101, 'preprocessor': MinMaxScaler()},\n",
       "  {'classifier__n_neighbors': 101,\n",
       "   'preprocessor': QuantileTransformer(n_quantiles=100)},\n",
       "  {'classifier__n_neighbors': 101,\n",
       "   'preprocessor': PowerTransformer(method='box-cox')}],\n",
       " 'split0_test_score': array([0.66468254, 1.        , 1.        , 0.95238095, 1.        ,\n",
       "        0.61805556, 0.95238095, 0.9047619 , 0.85714286, 0.9047619 ,\n",
       "        0.61805556, 0.85714286, 0.85714286, 0.85714286, 0.9047619 ]),\n",
       " 'split1_test_score': array([0.73601954, 1.        , 0.95238095, 0.92673993, 0.97777778,\n",
       "        0.56752137, 0.97777778, 0.95238095, 0.95238095, 0.97777778,\n",
       "        0.59316239, 0.95238095, 0.85714286, 0.85714286, 0.9047619 ]),\n",
       " 'split2_test_score': array([0.74102564, 1.        , 1.        , 1.        , 1.        ,\n",
       "        0.5965812 , 1.        , 1.        , 1.        , 1.        ,\n",
       "        0.57435897, 0.94444444, 0.94444444, 0.77777778, 0.88888889]),\n",
       " 'split3_test_score': array([0.7042735 , 0.91880342, 0.94444444, 0.91880342, 0.86324786,\n",
       "        0.56410256, 0.86324786, 0.86324786, 0.86324786, 0.86324786,\n",
       "        0.56410256, 0.86324786, 0.86324786, 0.86324786, 0.88888889]),\n",
       " 'split4_test_score': array([0.58412698, 0.88253968, 0.88253968, 0.9047619 , 0.88253968,\n",
       "        0.53333333, 0.88253968, 0.83492063, 0.9047619 , 0.83492063,\n",
       "        0.58888889, 0.83492063, 0.83492063, 0.76507937, 0.78730159]),\n",
       " 'split5_test_score': array([0.66984127, 0.95238095, 0.93015873, 1.        , 0.95238095,\n",
       "        0.64444444, 0.95238095, 0.95238095, 0.9047619 , 0.95238095,\n",
       "        0.64444444, 0.85714286, 0.85714286, 0.81269841, 0.80952381]),\n",
       " 'split6_test_score': array([0.83492063, 0.97777778, 0.95555556, 0.97777778, 0.95555556,\n",
       "        0.62222222, 0.95555556, 0.90793651, 0.97777778, 0.90793651,\n",
       "        0.62222222, 0.83492063, 0.76507937, 0.76507937, 0.81269841]),\n",
       " 'split7_test_score': array([0.74285714, 0.93015873, 0.95238095, 0.93015873, 0.93015873,\n",
       "        0.62222222, 0.95238095, 0.95238095, 0.93015873, 0.95238095,\n",
       "        0.62222222, 0.88253968, 0.9047619 , 0.83492063, 0.88253968]),\n",
       " 'split8_test_score': array([0.88253968, 0.90793651, 0.90793651, 0.90793651, 0.90793651,\n",
       "        0.64444444, 0.93015873, 0.93015873, 0.93015873, 0.93015873,\n",
       "        0.64444444, 0.83492063, 0.83492063, 0.73968254, 0.83492063]),\n",
       " 'split9_test_score': array([0.83809524, 0.95238095, 0.95238095, 0.95238095, 1.        ,\n",
       "        0.63888889, 0.95238095, 0.9047619 , 0.95238095, 0.9047619 ,\n",
       "        0.66666667, 0.9047619 , 0.9047619 , 0.85714286, 0.85714286]),\n",
       " 'mean_test_score': array([0.73983822, 0.9521978 , 0.94777778, 0.94709402, 0.94695971,\n",
       "        0.60518162, 0.94188034, 0.92029304, 0.92727717, 0.92283272,\n",
       "        0.61385684, 0.87664225, 0.86235653, 0.81299145, 0.85714286]),\n",
       " 'std_test_score': array([0.08668489, 0.0399021 , 0.03426844, 0.03379682, 0.04738728,\n",
       "        0.03647979, 0.03890548, 0.0455161 , 0.04375886, 0.04788268,\n",
       "        0.03147205, 0.04161842, 0.04624446, 0.04478846, 0.04100034]),\n",
       " 'rank_test_score': array([13,  1,  2,  3,  4, 15,  5,  8,  6,  7, 14,  9, 10, 12, 11],\n",
       "       dtype=int32)}"
      ]
     },
     "execution_count": 8,
     "metadata": {},
     "output_type": "execute_result"
    }
   ],
   "source": [
    "from sklearn.model_selection import GridSearchCV\n",
    "param_grid = {\n",
    "  \"preprocessor\": all_preprocessors,\n",
    "  \"classifier__n_neighbors\": [5, 51, 101],\n",
    "}\n",
    "\n",
    "grid_search = GridSearchCV(\n",
    "    model,\n",
    "    param_grid=param_grid,\n",
    "    scoring=\"balanced_accuracy\",\n",
    "    cv=10,\n",
    ").fit(data, target)\n",
    "grid_search.cv_results_"
   ]
  },
  {
   "cell_type": "code",
   "execution_count": 13,
   "metadata": {},
   "outputs": [],
   "source": [
    "results = (\n",
    "    pd.DataFrame(grid_search.cv_results_)\n",
    "    .sort_values(by=\"mean_test_score\", ascending=False)\n",
    ")\n",
    "\n",
    "results = results[\n",
    "    [c for c in results.columns if c.startswith(\"param_\")]\n",
    "    + [\"mean_test_score\", \"std_test_score\"]\n",
    "]"
   ]
  },
  {
   "cell_type": "code",
   "execution_count": 14,
   "metadata": {},
   "outputs": [
    {
     "data": {
      "text/html": [
       "<div>\n",
       "<style scoped>\n",
       "    .dataframe tbody tr th:only-of-type {\n",
       "        vertical-align: middle;\n",
       "    }\n",
       "\n",
       "    .dataframe tbody tr th {\n",
       "        vertical-align: top;\n",
       "    }\n",
       "\n",
       "    .dataframe thead th {\n",
       "        text-align: right;\n",
       "    }\n",
       "</style>\n",
       "<table border=\"1\" class=\"dataframe\">\n",
       "  <thead>\n",
       "    <tr style=\"text-align: right;\">\n",
       "      <th></th>\n",
       "      <th>param_classifier__n_neighbors</th>\n",
       "      <th>param_preprocessor</th>\n",
       "      <th>mean_test_score</th>\n",
       "      <th>std_test_score</th>\n",
       "    </tr>\n",
       "  </thead>\n",
       "  <tbody>\n",
       "    <tr>\n",
       "      <th>1</th>\n",
       "      <td>5</td>\n",
       "      <td>StandardScaler()</td>\n",
       "      <td>0.952198</td>\n",
       "      <td>0.039902</td>\n",
       "    </tr>\n",
       "    <tr>\n",
       "      <th>2</th>\n",
       "      <td>5</td>\n",
       "      <td>MinMaxScaler()</td>\n",
       "      <td>0.947778</td>\n",
       "      <td>0.034268</td>\n",
       "    </tr>\n",
       "    <tr>\n",
       "      <th>3</th>\n",
       "      <td>5</td>\n",
       "      <td>QuantileTransformer(n_quantiles=100)</td>\n",
       "      <td>0.947094</td>\n",
       "      <td>0.033797</td>\n",
       "    </tr>\n",
       "    <tr>\n",
       "      <th>4</th>\n",
       "      <td>5</td>\n",
       "      <td>PowerTransformer(method='box-cox')</td>\n",
       "      <td>0.946960</td>\n",
       "      <td>0.047387</td>\n",
       "    </tr>\n",
       "    <tr>\n",
       "      <th>6</th>\n",
       "      <td>51</td>\n",
       "      <td>StandardScaler()</td>\n",
       "      <td>0.941880</td>\n",
       "      <td>0.038905</td>\n",
       "    </tr>\n",
       "    <tr>\n",
       "      <th>8</th>\n",
       "      <td>51</td>\n",
       "      <td>QuantileTransformer(n_quantiles=100)</td>\n",
       "      <td>0.927277</td>\n",
       "      <td>0.043759</td>\n",
       "    </tr>\n",
       "    <tr>\n",
       "      <th>9</th>\n",
       "      <td>51</td>\n",
       "      <td>PowerTransformer(method='box-cox')</td>\n",
       "      <td>0.922833</td>\n",
       "      <td>0.047883</td>\n",
       "    </tr>\n",
       "    <tr>\n",
       "      <th>7</th>\n",
       "      <td>51</td>\n",
       "      <td>MinMaxScaler()</td>\n",
       "      <td>0.920293</td>\n",
       "      <td>0.045516</td>\n",
       "    </tr>\n",
       "    <tr>\n",
       "      <th>11</th>\n",
       "      <td>101</td>\n",
       "      <td>StandardScaler()</td>\n",
       "      <td>0.876642</td>\n",
       "      <td>0.041618</td>\n",
       "    </tr>\n",
       "    <tr>\n",
       "      <th>12</th>\n",
       "      <td>101</td>\n",
       "      <td>MinMaxScaler()</td>\n",
       "      <td>0.862357</td>\n",
       "      <td>0.046244</td>\n",
       "    </tr>\n",
       "    <tr>\n",
       "      <th>14</th>\n",
       "      <td>101</td>\n",
       "      <td>PowerTransformer(method='box-cox')</td>\n",
       "      <td>0.857143</td>\n",
       "      <td>0.041000</td>\n",
       "    </tr>\n",
       "    <tr>\n",
       "      <th>13</th>\n",
       "      <td>101</td>\n",
       "      <td>QuantileTransformer(n_quantiles=100)</td>\n",
       "      <td>0.812991</td>\n",
       "      <td>0.044788</td>\n",
       "    </tr>\n",
       "    <tr>\n",
       "      <th>0</th>\n",
       "      <td>5</td>\n",
       "      <td>None</td>\n",
       "      <td>0.739838</td>\n",
       "      <td>0.086685</td>\n",
       "    </tr>\n",
       "    <tr>\n",
       "      <th>10</th>\n",
       "      <td>101</td>\n",
       "      <td>None</td>\n",
       "      <td>0.613857</td>\n",
       "      <td>0.031472</td>\n",
       "    </tr>\n",
       "    <tr>\n",
       "      <th>5</th>\n",
       "      <td>51</td>\n",
       "      <td>None</td>\n",
       "      <td>0.605182</td>\n",
       "      <td>0.036480</td>\n",
       "    </tr>\n",
       "  </tbody>\n",
       "</table>\n",
       "</div>"
      ],
      "text/plain": [
       "   param_classifier__n_neighbors                    param_preprocessor  \\\n",
       "1                              5                      StandardScaler()   \n",
       "2                              5                        MinMaxScaler()   \n",
       "3                              5  QuantileTransformer(n_quantiles=100)   \n",
       "4                              5    PowerTransformer(method='box-cox')   \n",
       "6                             51                      StandardScaler()   \n",
       "8                             51  QuantileTransformer(n_quantiles=100)   \n",
       "9                             51    PowerTransformer(method='box-cox')   \n",
       "7                             51                        MinMaxScaler()   \n",
       "11                           101                      StandardScaler()   \n",
       "12                           101                        MinMaxScaler()   \n",
       "14                           101    PowerTransformer(method='box-cox')   \n",
       "13                           101  QuantileTransformer(n_quantiles=100)   \n",
       "0                              5                                  None   \n",
       "10                           101                                  None   \n",
       "5                             51                                  None   \n",
       "\n",
       "    mean_test_score  std_test_score  \n",
       "1          0.952198        0.039902  \n",
       "2          0.947778        0.034268  \n",
       "3          0.947094        0.033797  \n",
       "4          0.946960        0.047387  \n",
       "6          0.941880        0.038905  \n",
       "8          0.927277        0.043759  \n",
       "9          0.922833        0.047883  \n",
       "7          0.920293        0.045516  \n",
       "11         0.876642        0.041618  \n",
       "12         0.862357        0.046244  \n",
       "14         0.857143        0.041000  \n",
       "13         0.812991        0.044788  \n",
       "0          0.739838        0.086685  \n",
       "10         0.613857        0.031472  \n",
       "5          0.605182        0.036480  "
      ]
     },
     "execution_count": 14,
     "metadata": {},
     "output_type": "execute_result"
    }
   ],
   "source": [
    "results"
   ]
  }
 ],
 "metadata": {
  "kernelspec": {
   "display_name": "Python 3",
   "language": "python",
   "name": "python3"
  },
  "language_info": {
   "codemirror_mode": {
    "name": "ipython",
    "version": 3
   },
   "file_extension": ".py",
   "mimetype": "text/x-python",
   "name": "python",
   "nbconvert_exporter": "python",
   "pygments_lexer": "ipython3",
   "version": "3.9.2"
  }
 },
 "nbformat": 4,
 "nbformat_minor": 4
}
