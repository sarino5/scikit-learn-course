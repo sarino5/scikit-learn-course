{
 "cells": [
  {
   "cell_type": "code",
   "execution_count": 1,
   "metadata": {},
   "outputs": [],
   "source": [
    "import pandas as pd\n",
    "ames_housing = pd.read_csv(\"../datasets/house_prices.csv\", na_values=\"?\")\n",
    "target_name = \"SalePrice\"\n",
    "data = ames_housing.drop(columns=target_name)\n",
    "target = ames_housing[target_name]"
   ]
  },
  {
   "cell_type": "code",
   "execution_count": 2,
   "metadata": {},
   "outputs": [],
   "source": [
    "numerical_features = [\n",
    "    \"LotFrontage\", \"LotArea\", \"MasVnrArea\", \"BsmtFinSF1\", \"BsmtFinSF2\",\n",
    "    \"BsmtUnfSF\", \"TotalBsmtSF\", \"1stFlrSF\", \"2ndFlrSF\", \"LowQualFinSF\",\n",
    "    \"GrLivArea\", \"BedroomAbvGr\", \"KitchenAbvGr\", \"TotRmsAbvGrd\", \"Fireplaces\",\n",
    "    \"GarageCars\", \"GarageArea\", \"WoodDeckSF\", \"OpenPorchSF\", \"EnclosedPorch\",\n",
    "    \"3SsnPorch\", \"ScreenPorch\", \"PoolArea\", \"MiscVal\",\n",
    "]\n",
    "\n",
    "data_numerical = data[numerical_features]"
   ]
  },
  {
   "cell_type": "code",
   "execution_count": 3,
   "metadata": {},
   "outputs": [],
   "source": [
    "from sklearn.model_selection import cross_validate\n",
    "from sklearn.pipeline import make_pipeline\n",
    "from sklearn.preprocessing import StandardScaler\n",
    "from sklearn.linear_model import LinearRegression\n",
    "from sklearn.impute import SimpleImputer\n",
    "\n",
    "model = make_pipeline(\n",
    "    StandardScaler(),\n",
    "    SimpleImputer(),\n",
    "    LinearRegression())\n",
    "\n",
    "cv_result = cross_validate(model, data_numerical, target,\n",
    "                           cv=10, return_estimator=True)"
   ]
  },
  {
   "cell_type": "code",
   "execution_count": 4,
   "metadata": {},
   "outputs": [
    {
     "data": {
      "text/plain": [
       "{'fit_time': array([0.00614285, 0.00493169, 0.00486112, 0.004807  , 0.00480771,\n",
       "        0.00478506, 0.00478935, 0.00479436, 0.00476646, 0.0047648 ]),\n",
       " 'score_time': array([0.00165677, 0.00163341, 0.00161457, 0.00159502, 0.00162911,\n",
       "        0.00158834, 0.00159216, 0.00157833, 0.00160193, 0.00158858]),\n",
       " 'estimator': [Pipeline(steps=[('standardscaler', StandardScaler()),\n",
       "                  ('simpleimputer', SimpleImputer()),\n",
       "                  ('linearregression', LinearRegression())]),\n",
       "  Pipeline(steps=[('standardscaler', StandardScaler()),\n",
       "                  ('simpleimputer', SimpleImputer()),\n",
       "                  ('linearregression', LinearRegression())]),\n",
       "  Pipeline(steps=[('standardscaler', StandardScaler()),\n",
       "                  ('simpleimputer', SimpleImputer()),\n",
       "                  ('linearregression', LinearRegression())]),\n",
       "  Pipeline(steps=[('standardscaler', StandardScaler()),\n",
       "                  ('simpleimputer', SimpleImputer()),\n",
       "                  ('linearregression', LinearRegression())]),\n",
       "  Pipeline(steps=[('standardscaler', StandardScaler()),\n",
       "                  ('simpleimputer', SimpleImputer()),\n",
       "                  ('linearregression', LinearRegression())]),\n",
       "  Pipeline(steps=[('standardscaler', StandardScaler()),\n",
       "                  ('simpleimputer', SimpleImputer()),\n",
       "                  ('linearregression', LinearRegression())]),\n",
       "  Pipeline(steps=[('standardscaler', StandardScaler()),\n",
       "                  ('simpleimputer', SimpleImputer()),\n",
       "                  ('linearregression', LinearRegression())]),\n",
       "  Pipeline(steps=[('standardscaler', StandardScaler()),\n",
       "                  ('simpleimputer', SimpleImputer()),\n",
       "                  ('linearregression', LinearRegression())]),\n",
       "  Pipeline(steps=[('standardscaler', StandardScaler()),\n",
       "                  ('simpleimputer', SimpleImputer()),\n",
       "                  ('linearregression', LinearRegression())]),\n",
       "  Pipeline(steps=[('standardscaler', StandardScaler()),\n",
       "                  ('simpleimputer', SimpleImputer()),\n",
       "                  ('linearregression', LinearRegression())])],\n",
       " 'test_score': array([0.76131271, 0.80411742, 0.81189045, 0.66591655, 0.79965411,\n",
       "        0.76869598, 0.75635753, 0.71823778, 0.31470144, 0.78798511])}"
      ]
     },
     "execution_count": 4,
     "metadata": {},
     "output_type": "execute_result"
    }
   ],
   "source": [
    "cv_result"
   ]
  },
  {
   "cell_type": "code",
   "execution_count": 5,
   "metadata": {},
   "outputs": [
    {
     "name": "stdout",
     "output_type": "stream",
     "text": [
      "3.4302062667278464e+18\n",
      "-4.131841968591183e+18\n"
     ]
    }
   ],
   "source": [
    "coefs = [est[-1].coef_ for est in cv_result[\"estimator\"]]\n",
    "print(max(max(c) for c in coefs))\n",
    "print(min(min(c) for c in coefs))"
   ]
  },
  {
   "cell_type": "code",
   "execution_count": 6,
   "metadata": {},
   "outputs": [],
   "source": [
    "from sklearn.linear_model import Ridge\n",
    "\n",
    "\n",
    "model_ridge = make_pipeline(\n",
    "    StandardScaler(),\n",
    "    SimpleImputer(),\n",
    "    Ridge())\n",
    "\n",
    "cv_result_ridge = cross_validate(model_ridge, data_numerical, target,\n",
    "                           cv=10, return_estimator=True)"
   ]
  },
  {
   "cell_type": "code",
   "execution_count": 7,
   "metadata": {
    "scrolled": false
   },
   "outputs": [
    {
     "name": "stdout",
     "output_type": "stream",
     "text": [
      "22561.85645325165\n",
      "-13781.812385930034\n"
     ]
    }
   ],
   "source": [
    "coefs = [est[-1].coef_ for est in cv_result_ridge[\"estimator\"]]\n",
    "print(max(max(c) for c in coefs))\n",
    "print(min(min(c) for c in coefs))"
   ]
  },
  {
   "cell_type": "code",
   "execution_count": 8,
   "metadata": {},
   "outputs": [
    {
     "data": {
      "text/plain": [
       "[array([  -520.70158275,   1394.33212568,   7678.61680461,   8808.47360021,\n",
       "          -270.04186201,   2933.37271844,  11937.23363607,  10101.63592946,\n",
       "         11967.57446293,  -1560.56403748,  17144.2495499 , -11423.49836632,\n",
       "        -10983.43450527,  11977.87913684,   3343.51305422,  20868.21547323,\n",
       "         -1863.8291009 ,   4547.32321758,   2195.31555562,  -2103.03222638,\n",
       "          1697.55410967,   1685.28633808,  -2025.44652359,    378.42650356]),\n",
       " array([ -1106.39025093,   1148.03361104,   6637.36410647,   8564.80353074,\n",
       "           -70.18122318,   3088.40141349,  11956.66847627,   9933.70007455,\n",
       "         11842.69286253,  -2770.48629091,  16876.22344632, -11753.76412931,\n",
       "        -11579.90734762,  12688.36228369,   3229.80610607,  20330.30482227,\n",
       "         -2322.59347548,   5400.90102576,   1700.77383974,  -3120.94779506,\n",
       "           883.08028296,    741.07713584,  -1787.55255192,    297.09559168]),\n",
       " array([  -164.13101872,    493.24114927,   6863.1836558 ,   8498.16963761,\n",
       "          -658.13898878,   3238.48342941,  11859.17578981,   9363.08476237,\n",
       "         11954.57861024,  -1691.42089301,  16646.79319832, -12298.72607103,\n",
       "        -11008.64420765,  12806.81945988,   3340.4271543 ,  19764.80244161,\n",
       "         -1225.92717562,   5533.88027641,   1812.47878846,  -2642.21687185,\n",
       "          1068.41127636,   1956.09450813,  -1761.9392702 ,  -1050.60543726]),\n",
       " array([  -264.05419229,   1969.89667167,   7844.29334483,   7968.01571979,\n",
       "          -561.59320974,   2709.26586886,  10989.17512184,  11243.76172174,\n",
       "         12776.98530839,  -1825.00693133,  18681.52891887, -12068.04460127,\n",
       "        -10880.7132941 ,  10477.61546869,   2145.28978931,  20169.14244525,\n",
       "         -1942.77028687,   4447.46436961,   3030.37385618,  -2750.1765548 ,\n",
       "           828.75869583,   1596.11724124,  -2177.64029425,    303.75488158]),\n",
       " array([ 4.74903647e+02,  1.38313754e+03,  6.16017428e+03,  7.86267583e+03,\n",
       "         2.18595802e+02,  3.24093072e+03,  1.14087260e+04,  8.66607325e+03,\n",
       "         1.14170814e+04, -1.91039668e+03,  1.58356306e+04, -1.10736113e+04,\n",
       "        -1.06177654e+04,  1.22958472e+04,  3.63700845e+03,  1.95700487e+04,\n",
       "         3.23380776e+02,  3.93775765e+03,  1.97418930e+03, -2.46608727e+03,\n",
       "         9.82724715e+02,  1.96019768e+03, -1.60900677e+03, -6.52472678e+00]),\n",
       " array([   360.27522123,   1282.07162099,   6223.72535786,   8604.86279964,\n",
       "          -168.75118454,   2228.2798351 ,  11084.10752616,  10856.38068444,\n",
       "         12300.69782895,  -1488.05029383,  17990.32893329, -12285.82601875,\n",
       "        -10255.3739802 ,   9925.53352768,   3413.45916937,  22561.85645325,\n",
       "         -3181.35564342,   4834.94581514,   2113.36644036,  -2525.81704534,\n",
       "          1051.79613112,   1376.47310502,  -2243.21357405,    273.94732157]),\n",
       " array([  -536.05128884,   1808.35297306,   6978.42181562,   8121.60441803,\n",
       "           358.86407802,   3629.6772987 ,  12189.54418715,   8743.92772149,\n",
       "         12781.92345479,  -1439.19478171,  16768.82081466, -12298.90471837,\n",
       "        -10156.67008912,  12100.77392167,   3061.67788296,  20127.80561452,\n",
       "          -947.47985145,   5792.15474182,   2543.6345658 ,  -2578.12476208,\n",
       "          1548.48612518,   1958.47189943,  -1807.16690267,    252.53171727]),\n",
       " array([  -682.27524132,   1324.23596054,   6980.90712592,   8080.33246303,\n",
       "          -413.33775463,   2405.98429409,  10672.32889617,  10822.52091326,\n",
       "         11239.2944977 ,  -1279.9239739 ,  17166.11159372, -11426.36510371,\n",
       "        -11288.92677194,  12504.37168227,   3758.10801546,  20032.77693318,\n",
       "          -641.04013656,   5401.29075419,   2065.45970174,  -3392.05894667,\n",
       "          1050.04595149,   1612.45301518,  -1885.45525236,    313.41699671]),\n",
       " array([  3114.05401744,   2600.37218608,   6481.60560379,  11098.53720958,\n",
       "          -619.64223106,   4174.36186348,  15692.31525402,   7710.15812707,\n",
       "         13643.83463588,  -1735.52822829,  17143.06969607, -13781.81238593,\n",
       "        -10104.83602901,  12926.25314297,   2270.8850922 ,  11610.60879882,\n",
       "          4623.09929701,   3289.71341567,   2028.02579094,  -3111.62628072,\n",
       "            32.71608968,   1282.0977801 ,     70.60115387,    608.20508908]),\n",
       " array([ 5.29666301e+00,  1.67840576e+03,  6.96751976e+03,  8.13405936e+03,\n",
       "         1.99057810e+02,  3.13318352e+03,  1.16885343e+04,  9.57934206e+03,\n",
       "         1.20953671e+04, -1.48270412e+03,  1.69438905e+04, -1.27666409e+04,\n",
       "        -1.10390075e+04,  1.38150009e+04,  2.67086497e+03,  1.91433427e+04,\n",
       "        -7.71937814e+01,  4.44551328e+03,  1.49409488e+03, -2.66289448e+03,\n",
       "         2.94511865e+02,  2.17262529e+03, -2.41738322e+03,  1.02502436e+02])]"
      ]
     },
     "execution_count": 8,
     "metadata": {},
     "output_type": "execute_result"
    }
   ],
   "source": [
    "coefs"
   ]
  },
  {
   "cell_type": "code",
   "execution_count": 9,
   "metadata": {},
   "outputs": [
    {
     "data": {
      "image/png": "[encoded data removed]",
      "text/plain": [
       "<Figure size 432x1152 with 1 Axes>"
      ]
     },
     "metadata": {
      "needs_background": "light"
     },
     "output_type": "display_data"
    }
   ],
   "source": [
    "import matplotlib.pyplot as plt\n",
    "\n",
    "color = {\"whiskers\": \"black\", \"medians\": \"black\", \"caps\": \"black\"}\n",
    "\n",
    "weights_ridge = pd.DataFrame(coefs, columns=numerical_features)\n",
    "weights_ridge.plot.box(color=color, vert=False, figsize=(6, 16))\n",
    "_ = plt.title(\"Ridge weights\")"
   ]
  },
  {
   "cell_type": "code",
   "execution_count": 10,
   "metadata": {
    "scrolled": true
   },
   "outputs": [
    {
     "data": {
      "image/png": "[encoded data removed]",
      "text/plain": [
       "<Figure size 432x1152 with 1 Axes>"
      ]
     },
     "metadata": {
      "needs_background": "light"
     },
     "output_type": "display_data"
    }
   ],
   "source": [
    "# The same model but dropping the GarageArea feature\n",
    "non_cargarage = [\n",
    "    \"LotFrontage\", \"LotArea\", \"MasVnrArea\", \"BsmtFinSF1\", \"BsmtFinSF2\",\n",
    "    \"BsmtUnfSF\", \"TotalBsmtSF\", \"1stFlrSF\", \"2ndFlrSF\", \"LowQualFinSF\",\n",
    "    \"GrLivArea\", \"BedroomAbvGr\", \"KitchenAbvGr\", \"TotRmsAbvGrd\", \"Fireplaces\",\n",
    "    \"GarageCars\", \"WoodDeckSF\", \"OpenPorchSF\", \"EnclosedPorch\",\n",
    "    \"3SsnPorch\", \"ScreenPorch\", \"PoolArea\", \"MiscVal\",\n",
    "]\n",
    "\n",
    "data_noncargarage = data[non_cargarage]\n",
    "\n",
    "model_ridge = make_pipeline(\n",
    "    StandardScaler(),\n",
    "    SimpleImputer(),\n",
    "    Ridge())\n",
    "\n",
    "cv_result_ridge = cross_validate(model_ridge, data_noncargarage, target,\n",
    "                           cv=10, return_estimator=True)\n",
    "\n",
    "coefs = [est[-1].coef_ for est in cv_result_ridge[\"estimator\"]]\n",
    "\n",
    "weights_ridge = pd.DataFrame(coefs, columns=non_cargarage)\n",
    "weights_ridge.plot.box(color=color, vert=False, figsize=(6, 16))\n",
    "_ = plt.title(\"Ridge weights\")"
   ]
  },
  {
   "cell_type": "code",
   "execution_count": 11,
   "metadata": {},
   "outputs": [],
   "source": [
    "#Q6\n",
    "import numpy as np\n",
    "from sklearn.linear_model import RidgeCV\n",
    "\n",
    "alphas=np.logspace(-1, 3, num=30)\n",
    "ridge = make_pipeline(StandardScaler(),\n",
    "                      SimpleImputer(),\n",
    "                      RidgeCV(alphas=alphas, store_cv_values=True))"
   ]
  },
  {
   "cell_type": "code",
   "execution_count": 12,
   "metadata": {},
   "outputs": [],
   "source": [
    "from sklearn.model_selection import ShuffleSplit\n",
    "\n",
    "cv = ShuffleSplit(n_splits=5, random_state=1)\n",
    "cv_results = cross_validate(ridge, data_noncargarage, target,\n",
    "                            cv=cv,\n",
    "                            return_estimator=True,return_train_score=True,\n",
    "                           n_jobs=-1)"
   ]
  },
  {
   "cell_type": "code",
   "execution_count": 13,
   "metadata": {},
   "outputs": [
    {
     "data": {
      "image/png": "[encoded data removed]",
      "text/plain": [
       "<Figure size 432x1152 with 1 Axes>"
      ]
     },
     "metadata": {
      "needs_background": "light"
     },
     "output_type": "display_data"
    }
   ],
   "source": [
    "coefs = [est[-1].coef_ for est in cv_results[\"estimator\"]]\n",
    "\n",
    "weights_ridge = pd.DataFrame(coefs, columns=non_cargarage)\n",
    "weights_ridge.plot.box(color=color, vert=False, figsize=(6, 16))\n",
    "_ = plt.title(\"Ridge weights\")"
   ]
  },
  {
   "cell_type": "code",
   "execution_count": 14,
   "metadata": {
    "scrolled": true
   },
   "outputs": [
    {
     "data": {
      "text/plain": [
       "[280.72162039411756,\n",
       " 385.6620421163472,\n",
       " 280.72162039411756,\n",
       " 385.6620421163472,\n",
       " 78.80462815669912]"
      ]
     },
     "execution_count": 14,
     "metadata": {},
     "output_type": "execute_result"
    }
   ],
   "source": [
    "best_alphas = [est[-1].alpha_ for est in cv_results[\"estimator\"]]\n",
    "best_alphas"
   ]
  },
  {
   "cell_type": "markdown",
   "metadata": {},
   "source": [
    "## New Data Set for Classification Problem"
   ]
  },
  {
   "cell_type": "code",
   "execution_count": 15,
   "metadata": {},
   "outputs": [],
   "source": [
    "adult_census = pd.read_csv(\"../datasets/adult-census.csv\")\n",
    "target = adult_census[\"class\"]\n",
    "data = adult_census.select_dtypes([\"integer\", \"floating\"])\n",
    "data = data.drop(columns=[\"education-num\"])"
   ]
  },
  {
   "cell_type": "code",
   "execution_count": 16,
   "metadata": {},
   "outputs": [
    {
     "data": {
      "text/html": [
       "<div>\n",
       "<style scoped>\n",
       "    .dataframe tbody tr th:only-of-type {\n",
       "        vertical-align: middle;\n",
       "    }\n",
       "\n",
       "    .dataframe tbody tr th {\n",
       "        vertical-align: top;\n",
       "    }\n",
       "\n",
       "    .dataframe thead th {\n",
       "        text-align: right;\n",
       "    }\n",
       "</style>\n",
       "<table border=\"1\" class=\"dataframe\">\n",
       "  <thead>\n",
       "    <tr style=\"text-align: right;\">\n",
       "      <th></th>\n",
       "      <th>age</th>\n",
       "      <th>capital-gain</th>\n",
       "      <th>capital-loss</th>\n",
       "      <th>hours-per-week</th>\n",
       "    </tr>\n",
       "  </thead>\n",
       "  <tbody>\n",
       "    <tr>\n",
       "      <th>0</th>\n",
       "      <td>25</td>\n",
       "      <td>0</td>\n",
       "      <td>0</td>\n",
       "      <td>40</td>\n",
       "    </tr>\n",
       "    <tr>\n",
       "      <th>1</th>\n",
       "      <td>38</td>\n",
       "      <td>0</td>\n",
       "      <td>0</td>\n",
       "      <td>50</td>\n",
       "    </tr>\n",
       "    <tr>\n",
       "      <th>2</th>\n",
       "      <td>28</td>\n",
       "      <td>0</td>\n",
       "      <td>0</td>\n",
       "      <td>40</td>\n",
       "    </tr>\n",
       "    <tr>\n",
       "      <th>3</th>\n",
       "      <td>44</td>\n",
       "      <td>7688</td>\n",
       "      <td>0</td>\n",
       "      <td>40</td>\n",
       "    </tr>\n",
       "    <tr>\n",
       "      <th>4</th>\n",
       "      <td>18</td>\n",
       "      <td>0</td>\n",
       "      <td>0</td>\n",
       "      <td>30</td>\n",
       "    </tr>\n",
       "  </tbody>\n",
       "</table>\n",
       "</div>"
      ],
      "text/plain": [
       "   age  capital-gain  capital-loss  hours-per-week\n",
       "0   25             0             0              40\n",
       "1   38             0             0              50\n",
       "2   28             0             0              40\n",
       "3   44          7688             0              40\n",
       "4   18             0             0              30"
      ]
     },
     "execution_count": 16,
     "metadata": {},
     "output_type": "execute_result"
    }
   ],
   "source": [
    "data.head()"
   ]
  },
  {
   "cell_type": "code",
   "execution_count": 17,
   "metadata": {},
   "outputs": [
    {
     "name": "stdout",
     "output_type": "stream",
     "text": [
      "<class 'pandas.core.frame.DataFrame'>\n",
      "RangeIndex: 48842 entries, 0 to 48841\n",
      "Data columns (total 4 columns):\n",
      " #   Column          Non-Null Count  Dtype\n",
      "---  ------          --------------  -----\n",
      " 0   age             48842 non-null  int64\n",
      " 1   capital-gain    48842 non-null  int64\n",
      " 2   capital-loss    48842 non-null  int64\n",
      " 3   hours-per-week  48842 non-null  int64\n",
      "dtypes: int64(4)\n",
      "memory usage: 1.5 MB\n"
     ]
    }
   ],
   "source": [
    "data.info()"
   ]
  },
  {
   "cell_type": "code",
   "execution_count": 18,
   "metadata": {
    "scrolled": true
   },
   "outputs": [
    {
     "data": {
      "text/plain": [
       "{'fit_time': array([0.07145047, 0.06986856, 0.07146478, 0.07143998, 0.07064414,\n",
       "        0.07163715, 0.07154369, 0.07372165, 0.07238889, 0.07133842]),\n",
       " 'score_time': array([0.00683618, 0.00682783, 0.00676942, 0.00677514, 0.00667143,\n",
       "        0.00705457, 0.00673223, 0.00708199, 0.00672841, 0.00659442]),\n",
       " 'estimator': [Pipeline(steps=[('standardscaler', StandardScaler()),\n",
       "                  ('logisticregression', LogisticRegression())]),\n",
       "  Pipeline(steps=[('standardscaler', StandardScaler()),\n",
       "                  ('logisticregression', LogisticRegression())]),\n",
       "  Pipeline(steps=[('standardscaler', StandardScaler()),\n",
       "                  ('logisticregression', LogisticRegression())]),\n",
       "  Pipeline(steps=[('standardscaler', StandardScaler()),\n",
       "                  ('logisticregression', LogisticRegression())]),\n",
       "  Pipeline(steps=[('standardscaler', StandardScaler()),\n",
       "                  ('logisticregression', LogisticRegression())]),\n",
       "  Pipeline(steps=[('standardscaler', StandardScaler()),\n",
       "                  ('logisticregression', LogisticRegression())]),\n",
       "  Pipeline(steps=[('standardscaler', StandardScaler()),\n",
       "                  ('logisticregression', LogisticRegression())]),\n",
       "  Pipeline(steps=[('standardscaler', StandardScaler()),\n",
       "                  ('logisticregression', LogisticRegression())]),\n",
       "  Pipeline(steps=[('standardscaler', StandardScaler()),\n",
       "                  ('logisticregression', LogisticRegression())]),\n",
       "  Pipeline(steps=[('standardscaler', StandardScaler()),\n",
       "                  ('logisticregression', LogisticRegression())])],\n",
       " 'test_score': array([0.79856704, 0.79283521, 0.79668305, 0.80487305, 0.80036855,\n",
       "        0.79914005, 0.79750205, 0.7993448 , 0.80507781, 0.80405405])}"
      ]
     },
     "execution_count": 18,
     "metadata": {},
     "output_type": "execute_result"
    }
   ],
   "source": [
    "from sklearn.linear_model import LogisticRegression\n",
    "\n",
    "logistic_regression = make_pipeline(\n",
    "    StandardScaler(), LogisticRegression())\n",
    "\n",
    "cv_result = cross_validate(logistic_regression, data, target,\n",
    "                           cv=10, return_estimator=True)\n",
    "cv_result"
   ]
  },
  {
   "cell_type": "code",
   "execution_count": 19,
   "metadata": {},
   "outputs": [
    {
     "name": "stdout",
     "output_type": "stream",
     "text": [
      "0.800 +/- 0.004\n"
     ]
    }
   ],
   "source": [
    "print(f\"{cv_result['test_score'].mean():.3f} +/- {cv_result['test_score'].std():.3f}\")"
   ]
  },
  {
   "cell_type": "code",
   "execution_count": 20,
   "metadata": {},
   "outputs": [
    {
     "data": {
      "text/plain": [
       "{'fit_time': array([0.01578879, 0.01552844, 0.01587868, 0.01598072, 0.01581788,\n",
       "        0.01599956, 0.01587319, 0.01597476, 0.01579952, 0.01583242]),\n",
       " 'score_time': array([0.00594878, 0.00556183, 0.00552511, 0.0057168 , 0.00558496,\n",
       "        0.00578713, 0.00560141, 0.00577521, 0.00571918, 0.00557017]),\n",
       " 'test_score': array([0.76069601, 0.76069601, 0.76085176, 0.76085176, 0.76085176,\n",
       "        0.76064701, 0.76064701, 0.76064701, 0.76064701, 0.76064701])}"
      ]
     },
     "execution_count": 20,
     "metadata": {},
     "output_type": "execute_result"
    }
   ],
   "source": [
    "from sklearn.dummy import DummyClassifier\n",
    "\n",
    "dummy_clf = DummyClassifier(strategy='most_frequent')\n",
    "\n",
    "cv_result_dummy = cross_validate(dummy_clf, data, target, cv = 10)\n",
    "cv_result_dummy"
   ]
  },
  {
   "cell_type": "code",
   "execution_count": 21,
   "metadata": {
    "scrolled": false
   },
   "outputs": [
    {
     "name": "stdout",
     "output_type": "stream",
     "text": [
      "0.761 +/- 0.000\n"
     ]
    }
   ],
   "source": [
    "print(f\"{cv_result_dummy['test_score'].mean():.3f} +/- {cv_result_dummy['test_score'].std():.3f}\")"
   ]
  },
  {
   "cell_type": "code",
   "execution_count": 30,
   "metadata": {
    "scrolled": true
   },
   "outputs": [
    {
     "ename": "KeyError",
     "evalue": "'estimator'",
     "output_type": "error",
     "traceback": [
      "\u001b[0;31m---------------------------------------------------------------------------\u001b[0m",
      "\u001b[0;31mKeyError\u001b[0m                                  Traceback (most recent call last)",
      "\u001b[0;32m<ipython-input-30-df5ebb981cc8>\u001b[0m in \u001b[0;36m<module>\u001b[0;34m\u001b[0m\n\u001b[1;32m      1\u001b[0m \u001b[0mcolumns\u001b[0m \u001b[0;34m=\u001b[0m \u001b[0;34m[\u001b[0m\u001b[0;34m'age'\u001b[0m\u001b[0;34m,\u001b[0m\u001b[0;34m'capital-gain'\u001b[0m\u001b[0;34m,\u001b[0m\u001b[0;34m'capital-loss'\u001b[0m\u001b[0;34m,\u001b[0m\u001b[0;34m'hours-per-week'\u001b[0m\u001b[0;34m]\u001b[0m\u001b[0;34m\u001b[0m\u001b[0;34m\u001b[0m\u001b[0m\n\u001b[1;32m      2\u001b[0m \u001b[0;34m\u001b[0m\u001b[0m\n\u001b[0;32m----> 3\u001b[0;31m \u001b[0mcoefs\u001b[0m \u001b[0;34m=\u001b[0m \u001b[0;34m[\u001b[0m\u001b[0mest\u001b[0m\u001b[0;34m[\u001b[0m\u001b[0;34m-\u001b[0m\u001b[0;36m1\u001b[0m\u001b[0;34m]\u001b[0m\u001b[0;34m.\u001b[0m\u001b[0mcoef_\u001b[0m \u001b[0;32mfor\u001b[0m \u001b[0mest\u001b[0m \u001b[0;32min\u001b[0m \u001b[0mcv_result\u001b[0m\u001b[0;34m[\u001b[0m\u001b[0;34m\"estimator\"\u001b[0m\u001b[0;34m]\u001b[0m\u001b[0;34m]\u001b[0m\u001b[0;34m\u001b[0m\u001b[0;34m\u001b[0m\u001b[0m\n\u001b[0m\u001b[1;32m      4\u001b[0m \u001b[0;34m\u001b[0m\u001b[0m\n\u001b[1;32m      5\u001b[0m \u001b[0mcoefs\u001b[0m \u001b[0;34m=\u001b[0m \u001b[0mpd\u001b[0m\u001b[0;34m.\u001b[0m\u001b[0mDataFrame\u001b[0m\u001b[0;34m(\u001b[0m\u001b[0mnp\u001b[0m\u001b[0;34m.\u001b[0m\u001b[0mconcatenate\u001b[0m\u001b[0;34m(\u001b[0m\u001b[0mcoefs\u001b[0m\u001b[0;34m)\u001b[0m\u001b[0;34m,\u001b[0m\u001b[0mcolumns\u001b[0m\u001b[0;34m=\u001b[0m\u001b[0mcolumns\u001b[0m\u001b[0;34m)\u001b[0m\u001b[0;34m\u001b[0m\u001b[0;34m\u001b[0m\u001b[0m\n",
      "\u001b[0;31mKeyError\u001b[0m: 'estimator'"
     ]
    }
   ],
   "source": [
    "columns = ['age','capital-gain','capital-loss','hours-per-week']\n",
    "\n",
    "coefs = [est[-1].coef_ for est in cv_result[\"estimator\"]]\n",
    "\n",
    "coefs = pd.DataFrame(np.concatenate(coefs),columns=columns)\n",
    "\n",
    "weight = coefs.mean()"
   ]
  },
  {
   "cell_type": "code",
   "execution_count": 25,
   "metadata": {},
   "outputs": [
    {
     "data": {
      "text/plain": [
       "Text(0.5, 1.0, 'Weights of the logistic regression')"
      ]
     },
     "execution_count": 25,
     "metadata": {},
     "output_type": "execute_result"
    },
    {
     "data": {
      "image/png": "[encoded data removed]",
      "text/plain": [
       "<Figure size 432x288 with 1 Axes>"
      ]
     },
     "metadata": {
      "needs_background": "light"
     },
     "output_type": "display_data"
    }
   ],
   "source": [
    "b"
   ]
  },
  {
   "cell_type": "code",
   "execution_count": 26,
   "metadata": {},
   "outputs": [],
   "source": [
    "adult_census = pd.read_csv(\"../datasets/adult-census.csv\")\n",
    "target = adult_census[\"class\"]\n",
    "data = adult_census.drop(columns=[\"class\", \"education-num\"])"
   ]
  },
  {
   "cell_type": "code",
   "execution_count": 27,
   "metadata": {
    "scrolled": false
   },
   "outputs": [
    {
     "name": "stdout",
     "output_type": "stream",
     "text": [
      "<class 'pandas.core.frame.DataFrame'>\n",
      "RangeIndex: 48842 entries, 0 to 48841\n",
      "Data columns (total 12 columns):\n",
      " #   Column          Non-Null Count  Dtype \n",
      "---  ------          --------------  ----- \n",
      " 0   age             48842 non-null  int64 \n",
      " 1   workclass       48842 non-null  object\n",
      " 2   education       48842 non-null  object\n",
      " 3   marital-status  48842 non-null  object\n",
      " 4   occupation      48842 non-null  object\n",
      " 5   relationship    48842 non-null  object\n",
      " 6   race            48842 non-null  object\n",
      " 7   sex             48842 non-null  object\n",
      " 8   capital-gain    48842 non-null  int64 \n",
      " 9   capital-loss    48842 non-null  int64 \n",
      " 10  hours-per-week  48842 non-null  int64 \n",
      " 11  native-country  48842 non-null  object\n",
      "dtypes: int64(4), object(8)\n",
      "memory usage: 4.5+ MB\n"
     ]
    }
   ],
   "source": [
    "data.info()"
   ]
  },
  {
   "cell_type": "code",
   "execution_count": 28,
   "metadata": {},
   "outputs": [],
   "source": [
    "from sklearn.compose import make_column_selector as selector\n",
    "\n",
    "numerical_columns_selector = selector(dtype_exclude=object)\n",
    "categorical_columns_selector = selector(dtype_include=object)\n",
    "\n",
    "numerical_columns = numerical_columns_selector(data)\n",
    "categorical_columns = categorical_columns_selector(data)"
   ]
  },
  {
   "cell_type": "code",
   "execution_count": 49,
   "metadata": {
    "scrolled": true
   },
   "outputs": [
    {
     "data": {
      "text/plain": [
       "{'fit_time': array([1.17437935, 1.1237998 , 1.03257751, 1.10266781, 1.12768102]),\n",
       " 'score_time': array([0.03413773, 0.03371453, 0.03385091, 0.03598356, 0.03361058]),\n",
       " 'estimator': [Pipeline(steps=[('columntransformer',\n",
       "                   ColumnTransformer(transformers=[('num-preprocessor',\n",
       "                                                    StandardScaler(),\n",
       "                                                    ['age', 'capital-gain',\n",
       "                                                     'capital-loss',\n",
       "                                                     'hours-per-week']),\n",
       "                                                   ('cat-preprocessor',\n",
       "                                                    OneHotEncoder(handle_unknown='ignore'),\n",
       "                                                    ['workclass', 'education',\n",
       "                                                     'marital-status',\n",
       "                                                     'occupation', 'relationship',\n",
       "                                                     'race', 'sex',\n",
       "                                                     'native-country'])])),\n",
       "                  ('logisticregression', LogisticRegression(max_iter=500))]),\n",
       "  Pipeline(steps=[('columntransformer',\n",
       "                   ColumnTransformer(transformers=[('num-preprocessor',\n",
       "                                                    StandardScaler(),\n",
       "                                                    ['age', 'capital-gain',\n",
       "                                                     'capital-loss',\n",
       "                                                     'hours-per-week']),\n",
       "                                                   ('cat-preprocessor',\n",
       "                                                    OneHotEncoder(handle_unknown='ignore'),\n",
       "                                                    ['workclass', 'education',\n",
       "                                                     'marital-status',\n",
       "                                                     'occupation', 'relationship',\n",
       "                                                     'race', 'sex',\n",
       "                                                     'native-country'])])),\n",
       "                  ('logisticregression', LogisticRegression(max_iter=500))]),\n",
       "  Pipeline(steps=[('columntransformer',\n",
       "                   ColumnTransformer(transformers=[('num-preprocessor',\n",
       "                                                    StandardScaler(),\n",
       "                                                    ['age', 'capital-gain',\n",
       "                                                     'capital-loss',\n",
       "                                                     'hours-per-week']),\n",
       "                                                   ('cat-preprocessor',\n",
       "                                                    OneHotEncoder(handle_unknown='ignore'),\n",
       "                                                    ['workclass', 'education',\n",
       "                                                     'marital-status',\n",
       "                                                     'occupation', 'relationship',\n",
       "                                                     'race', 'sex',\n",
       "                                                     'native-country'])])),\n",
       "                  ('logisticregression', LogisticRegression(max_iter=500))]),\n",
       "  Pipeline(steps=[('columntransformer',\n",
       "                   ColumnTransformer(transformers=[('num-preprocessor',\n",
       "                                                    StandardScaler(),\n",
       "                                                    ['age', 'capital-gain',\n",
       "                                                     'capital-loss',\n",
       "                                                     'hours-per-week']),\n",
       "                                                   ('cat-preprocessor',\n",
       "                                                    OneHotEncoder(handle_unknown='ignore'),\n",
       "                                                    ['workclass', 'education',\n",
       "                                                     'marital-status',\n",
       "                                                     'occupation', 'relationship',\n",
       "                                                     'race', 'sex',\n",
       "                                                     'native-country'])])),\n",
       "                  ('logisticregression', LogisticRegression(max_iter=500))]),\n",
       "  Pipeline(steps=[('columntransformer',\n",
       "                   ColumnTransformer(transformers=[('num-preprocessor',\n",
       "                                                    StandardScaler(),\n",
       "                                                    ['age', 'capital-gain',\n",
       "                                                     'capital-loss',\n",
       "                                                     'hours-per-week']),\n",
       "                                                   ('cat-preprocessor',\n",
       "                                                    OneHotEncoder(handle_unknown='ignore'),\n",
       "                                                    ['workclass', 'education',\n",
       "                                                     'marital-status',\n",
       "                                                     'occupation', 'relationship',\n",
       "                                                     'race', 'sex',\n",
       "                                                     'native-country'])])),\n",
       "                  ('logisticregression', LogisticRegression(max_iter=500))])],\n",
       " 'test_score': array([0.8512642 , 0.8498311 , 0.84756347, 0.85247748, 0.85503686])}"
      ]
     },
     "execution_count": 49,
     "metadata": {},
     "output_type": "execute_result"
    }
   ],
   "source": [
    "import numpy as np\n",
    "from sklearn.pipeline import FeatureUnion, make_union\n",
    "from sklearn.linear_model import LogisticRegression\n",
    "from sklearn.impute import SimpleImputer, MissingIndicator\n",
    "from sklearn.compose import ColumnTransformer\n",
    "from sklearn.preprocessing import OneHotEncoder\n",
    "\n",
    "\n",
    "preprocessor = ColumnTransformer(transformers=[\n",
    "    (\"num-preprocessor\", StandardScaler(), numerical_columns),\n",
    "    ('cat-preprocessor',OneHotEncoder(handle_unknown='ignore'), categorical_columns)\n",
    "])\n",
    "\n",
    "model = make_pipeline(preprocessor, LogisticRegression(max_iter=500))\n",
    "\n",
    "cv_result = cross_validate(model, data, target,\n",
    "                           cv=5, return_estimator=True)\n",
    "cv_result"
   ]
  },
  {
   "cell_type": "code",
   "execution_count": 50,
   "metadata": {},
   "outputs": [
    {
     "name": "stdout",
     "output_type": "stream",
     "text": [
      "0.851 +/- 0.003\n"
     ]
    }
   ],
   "source": [
    "print(f\"{cv_result['test_score'].mean():.3f} +/- {cv_result['test_score'].std():.3f}\")"
   ]
  },
  {
   "cell_type": "code",
   "execution_count": 51,
   "metadata": {},
   "outputs": [],
   "source": [
    "#14\n",
    "preprocessor.fit(data)\n",
    "feature_names = (preprocessor.named_transformers_[\"cat-preprocessor\"]\n",
    "                             .get_feature_names(categorical_columns)).tolist()\n",
    "feature_names += numerical_columns"
   ]
  },
  {
   "cell_type": "code",
   "execution_count": 59,
   "metadata": {
    "scrolled": true
   },
   "outputs": [
    {
     "data": {
      "text/plain": [
       "array([[ 3.32619364e-01,  2.32335582e+00,  2.58825264e-01,\n",
       "         3.55079947e-01, -8.78963770e-02,  6.94751412e-01,\n",
       "         3.34215688e-02, -1.62179836e-01,  1.93893112e-01,\n",
       "         3.38086899e-01, -3.12413797e-01, -1.48973386e-01,\n",
       "        -5.80596285e-01, -8.06164312e-01, -6.72124147e-01,\n",
       "        -3.38413817e-01, -1.26343014e+00, -1.10952381e+00,\n",
       "        -1.25079649e+00, -1.01478165e+00,  5.48105527e-01,\n",
       "         5.14402994e-01,  1.12133389e+00,  2.08301007e+00,\n",
       "        -3.22223153e-04,  1.45369637e+00, -1.58592333e+00,\n",
       "         1.92626066e+00,  3.62763716e-01, -5.49673864e-01,\n",
       "         1.51499360e+00,  1.54617220e+00, -4.36419913e-01,\n",
       "        -1.02910744e+00, -7.41099303e-01, -3.36771964e-01,\n",
       "        -2.50076213e-01,  1.40196239e-01,  2.57761955e-01,\n",
       "         2.15557963e-01,  9.45555739e-01, -8.55173917e-01,\n",
       "        -5.77879001e-01, -1.10876875e-01, -6.91780432e-01,\n",
       "        -1.72483825e+00,  6.98373326e-01,  6.81864725e-01,\n",
       "         4.22808180e-01,  7.55705976e-01,  6.08938962e-02,\n",
       "        -1.39372491e-01,  2.81618870e-01, -6.12412717e-01,\n",
       "        -7.87239945e-01,  1.14856070e-01,  1.11064353e+00,\n",
       "        -4.79243623e-01,  2.73106308e-01,  4.77829721e-02,\n",
       "        -6.92989940e-02,  1.95746648e-01, -4.31176122e-01,\n",
       "         3.99269434e-01,  3.32360475e-02,  7.91705042e-01,\n",
       "         7.40968368e-01, -4.80837175e-01, -1.41675401e+00,\n",
       "         4.74327745e-01, -8.35437802e-01, -2.21065667e-01,\n",
       "        -4.97399059e-01,  4.88090745e-01,  7.67959732e-01,\n",
       "         5.05982061e-01, -3.67740118e-01, -8.39296416e-02,\n",
       "         4.41215285e-01, -1.78904297e-02, -2.22034786e-01,\n",
       "        -1.34873248e-01,  1.04477250e-01, -1.72821923e-01,\n",
       "         4.49583357e-01,  8.69506546e-01,  7.96429257e-01,\n",
       "         2.54255445e-01,  1.23265618e-01, -5.48762798e-01,\n",
       "        -4.43108742e-01, -4.19318668e-01, -7.09765465e-01,\n",
       "        -3.24489507e-01,  5.21423014e-01,  2.50792865e-01,\n",
       "         6.83346334e-01, -2.20945294e-02, -6.02133486e-02,\n",
       "        -8.91374487e-01,  1.24880416e-01, -3.56716199e-01,\n",
       "        -4.41307855e-01,  3.26884306e-01, -5.66137583e-01,\n",
       "         4.53836923e-01]])"
      ]
     },
     "execution_count": 59,
     "metadata": {},
     "output_type": "execute_result"
    }
   ],
   "source": [
    "coefs = cv_result[\"estimator\"][0][-1].coef_\n",
    "coefs"
   ]
  },
  {
   "cell_type": "code",
   "execution_count": 65,
   "metadata": {
    "scrolled": false
   },
   "outputs": [
    {
     "data": {
      "text/html": [
       "<div>\n",
       "<style scoped>\n",
       "    .dataframe tbody tr th:only-of-type {\n",
       "        vertical-align: middle;\n",
       "    }\n",
       "\n",
       "    .dataframe tbody tr th {\n",
       "        vertical-align: top;\n",
       "    }\n",
       "\n",
       "    .dataframe thead th {\n",
       "        text-align: right;\n",
       "    }\n",
       "</style>\n",
       "<table border=\"1\" class=\"dataframe\">\n",
       "  <thead>\n",
       "    <tr style=\"text-align: right;\">\n",
       "      <th></th>\n",
       "      <th>workclass_ Federal-gov</th>\n",
       "      <th>education_ Prof-school</th>\n",
       "      <th>marital-status_ Married-civ-spouse</th>\n",
       "      <th>marital-status_ Widowed</th>\n",
       "      <th>marital-status_ Separated</th>\n",
       "      <th>marital-status_ Divorced</th>\n",
       "      <th>education_ Preschool</th>\n",
       "      <th>race_ Other</th>\n",
       "      <th>occupation_ Other-service</th>\n",
       "      <th>native-country_ Laos</th>\n",
       "      <th>...</th>\n",
       "      <th>occupation_ Priv-house-serv</th>\n",
       "      <th>native-country_ United-States</th>\n",
       "      <th>education_ Doctorate</th>\n",
       "      <th>occupation_ Adm-clerical</th>\n",
       "      <th>education_ Assoc-voc</th>\n",
       "      <th>education_ Bachelors</th>\n",
       "      <th>education_ Assoc-acdm</th>\n",
       "      <th>native-country_ El-Salvador</th>\n",
       "      <th>marital-status_ Married-AF-spouse</th>\n",
       "      <th>occupation_ Tech-support</th>\n",
       "    </tr>\n",
       "  </thead>\n",
       "  <tbody>\n",
       "    <tr>\n",
       "      <th>0</th>\n",
       "      <td>2.323356</td>\n",
       "      <td>2.08301</td>\n",
       "      <td>1.926261</td>\n",
       "      <td>1.546172</td>\n",
       "      <td>1.514994</td>\n",
       "      <td>1.453696</td>\n",
       "      <td>1.121334</td>\n",
       "      <td>1.110644</td>\n",
       "      <td>0.945556</td>\n",
       "      <td>0.869507</td>\n",
       "      <td>...</td>\n",
       "      <td>-0.855174</td>\n",
       "      <td>-0.891374</td>\n",
       "      <td>-1.014782</td>\n",
       "      <td>-1.029107</td>\n",
       "      <td>-1.109524</td>\n",
       "      <td>-1.250796</td>\n",
       "      <td>-1.26343</td>\n",
       "      <td>-1.416754</td>\n",
       "      <td>-1.585923</td>\n",
       "      <td>-1.724838</td>\n",
       "    </tr>\n",
       "  </tbody>\n",
       "</table>\n",
       "<p>1 rows × 106 columns</p>\n",
       "</div>"
      ],
      "text/plain": [
       "   workclass_ Federal-gov  education_ Prof-school  \\\n",
       "0                2.323356                 2.08301   \n",
       "\n",
       "   marital-status_ Married-civ-spouse  marital-status_ Widowed  \\\n",
       "0                            1.926261                 1.546172   \n",
       "\n",
       "   marital-status_ Separated  marital-status_ Divorced  education_ Preschool  \\\n",
       "0                   1.514994                  1.453696              1.121334   \n",
       "\n",
       "   race_ Other  occupation_ Other-service  native-country_ Laos  ...  \\\n",
       "0     1.110644                   0.945556              0.869507  ...   \n",
       "\n",
       "   occupation_ Priv-house-serv  native-country_ United-States  \\\n",
       "0                    -0.855174                      -0.891374   \n",
       "\n",
       "   education_ Doctorate  occupation_ Adm-clerical  education_ Assoc-voc  \\\n",
       "0             -1.014782                 -1.029107             -1.109524   \n",
       "\n",
       "   education_ Bachelors  education_ Assoc-acdm  native-country_ El-Salvador  \\\n",
       "0             -1.250796               -1.26343                    -1.416754   \n",
       "\n",
       "   marital-status_ Married-AF-spouse  occupation_ Tech-support  \n",
       "0                          -1.585923                 -1.724838  \n",
       "\n",
       "[1 rows x 106 columns]"
      ]
     },
     "execution_count": 65,
     "metadata": {},
     "output_type": "execute_result"
    }
   ],
   "source": [
    "coefs = pd.DataFrame(coefs,columns=feature_names)\n",
    "coefs.sort_values(axis = 1, ascending=False, by =0)"
   ]
  },
  {
   "cell_type": "code",
   "execution_count": 66,
   "metadata": {},
   "outputs": [
    {
     "ename": "ValueError",
     "evalue": "Shape of passed values is (5, 1), indices imply (5, 106)",
     "output_type": "error",
     "traceback": [
      "\u001b[0;31m---------------------------------------------------------------------------\u001b[0m",
      "\u001b[0;31mValueError\u001b[0m                                Traceback (most recent call last)",
      "\u001b[0;32m/opt/conda/lib/python3.9/site-packages/pandas/core/internals/managers.py\u001b[0m in \u001b[0;36mcreate_block_manager_from_blocks\u001b[0;34m(blocks, axes)\u001b[0m\n\u001b[1;32m   1674\u001b[0m                 blocks = [\n\u001b[0;32m-> 1675\u001b[0;31m                     make_block(\n\u001b[0m\u001b[1;32m   1676\u001b[0m                         \u001b[0mvalues\u001b[0m\u001b[0;34m=\u001b[0m\u001b[0mblocks\u001b[0m\u001b[0;34m[\u001b[0m\u001b[0;36m0\u001b[0m\u001b[0;34m]\u001b[0m\u001b[0;34m,\u001b[0m \u001b[0mplacement\u001b[0m\u001b[0;34m=\u001b[0m\u001b[0mslice\u001b[0m\u001b[0;34m(\u001b[0m\u001b[0;36m0\u001b[0m\u001b[0;34m,\u001b[0m \u001b[0mlen\u001b[0m\u001b[0;34m(\u001b[0m\u001b[0maxes\u001b[0m\u001b[0;34m[\u001b[0m\u001b[0;36m0\u001b[0m\u001b[0;34m]\u001b[0m\u001b[0;34m)\u001b[0m\u001b[0;34m)\u001b[0m\u001b[0;34m,\u001b[0m \u001b[0mndim\u001b[0m\u001b[0;34m=\u001b[0m\u001b[0;36m2\u001b[0m\u001b[0;34m\u001b[0m\u001b[0;34m\u001b[0m\u001b[0m\n",
      "\u001b[0;32m/opt/conda/lib/python3.9/site-packages/pandas/core/internals/blocks.py\u001b[0m in \u001b[0;36mmake_block\u001b[0;34m(values, placement, klass, ndim, dtype)\u001b[0m\n\u001b[1;32m   2741\u001b[0m \u001b[0;34m\u001b[0m\u001b[0m\n\u001b[0;32m-> 2742\u001b[0;31m     \u001b[0;32mreturn\u001b[0m \u001b[0mklass\u001b[0m\u001b[0;34m(\u001b[0m\u001b[0mvalues\u001b[0m\u001b[0;34m,\u001b[0m \u001b[0mndim\u001b[0m\u001b[0;34m=\u001b[0m\u001b[0mndim\u001b[0m\u001b[0;34m,\u001b[0m \u001b[0mplacement\u001b[0m\u001b[0;34m=\u001b[0m\u001b[0mplacement\u001b[0m\u001b[0;34m)\u001b[0m\u001b[0;34m\u001b[0m\u001b[0;34m\u001b[0m\u001b[0m\n\u001b[0m\u001b[1;32m   2743\u001b[0m \u001b[0;34m\u001b[0m\u001b[0m\n",
      "\u001b[0;32m/opt/conda/lib/python3.9/site-packages/pandas/core/internals/blocks.py\u001b[0m in \u001b[0;36m__init__\u001b[0;34m(self, values, placement, ndim)\u001b[0m\n\u001b[1;32m    141\u001b[0m         \u001b[0;32mif\u001b[0m \u001b[0mself\u001b[0m\u001b[0;34m.\u001b[0m\u001b[0m_validate_ndim\u001b[0m \u001b[0;32mand\u001b[0m \u001b[0mself\u001b[0m\u001b[0;34m.\u001b[0m\u001b[0mndim\u001b[0m \u001b[0;32mand\u001b[0m \u001b[0mlen\u001b[0m\u001b[0;34m(\u001b[0m\u001b[0mself\u001b[0m\u001b[0;34m.\u001b[0m\u001b[0mmgr_locs\u001b[0m\u001b[0;34m)\u001b[0m \u001b[0;34m!=\u001b[0m \u001b[0mlen\u001b[0m\u001b[0;34m(\u001b[0m\u001b[0mself\u001b[0m\u001b[0;34m.\u001b[0m\u001b[0mvalues\u001b[0m\u001b[0;34m)\u001b[0m\u001b[0;34m:\u001b[0m\u001b[0;34m\u001b[0m\u001b[0;34m\u001b[0m\u001b[0m\n\u001b[0;32m--> 142\u001b[0;31m             raise ValueError(\n\u001b[0m\u001b[1;32m    143\u001b[0m                 \u001b[0;34mf\"Wrong number of items passed {len(self.values)}, \"\u001b[0m\u001b[0;34m\u001b[0m\u001b[0;34m\u001b[0m\u001b[0m\n",
      "\u001b[0;31mValueError\u001b[0m: Wrong number of items passed 1, placement implies 106",
      "\nDuring handling of the above exception, another exception occurred:\n",
      "\u001b[0;31mValueError\u001b[0m                                Traceback (most recent call last)",
      "\u001b[0;32m<ipython-input-66-9adfa2eb753f>\u001b[0m in \u001b[0;36m<module>\u001b[0;34m\u001b[0m\n\u001b[1;32m      1\u001b[0m \u001b[0mcoefs\u001b[0m \u001b[0;34m=\u001b[0m \u001b[0;34m[\u001b[0m\u001b[0mestimator\u001b[0m\u001b[0;34m[\u001b[0m\u001b[0;34m-\u001b[0m\u001b[0;36m1\u001b[0m\u001b[0;34m]\u001b[0m\u001b[0;34m.\u001b[0m\u001b[0mcoef_\u001b[0m\u001b[0;34m[\u001b[0m\u001b[0;36m0\u001b[0m\u001b[0;34m]\u001b[0m \u001b[0;32mfor\u001b[0m \u001b[0mestimator\u001b[0m \u001b[0;32min\u001b[0m \u001b[0mcv_results\u001b[0m\u001b[0;34m[\u001b[0m\u001b[0;34m\"estimator\"\u001b[0m\u001b[0;34m]\u001b[0m\u001b[0;34m]\u001b[0m\u001b[0;34m\u001b[0m\u001b[0;34m\u001b[0m\u001b[0m\n\u001b[0;32m----> 2\u001b[0;31m \u001b[0mcoefs\u001b[0m \u001b[0;34m=\u001b[0m \u001b[0mpd\u001b[0m\u001b[0;34m.\u001b[0m\u001b[0mDataFrame\u001b[0m\u001b[0;34m(\u001b[0m\u001b[0mcoefs\u001b[0m\u001b[0;34m,\u001b[0m \u001b[0mcolumns\u001b[0m\u001b[0;34m=\u001b[0m\u001b[0mfeature_names\u001b[0m\u001b[0;34m)\u001b[0m\u001b[0;34m\u001b[0m\u001b[0;34m\u001b[0m\u001b[0m\n\u001b[0m\u001b[1;32m      3\u001b[0m \u001b[0;34m\u001b[0m\u001b[0m\n\u001b[1;32m      4\u001b[0m \u001b[0;31m# Define the style of the box style\u001b[0m\u001b[0;34m\u001b[0m\u001b[0;34m\u001b[0m\u001b[0;34m\u001b[0m\u001b[0m\n\u001b[1;32m      5\u001b[0m boxplot_property = {\n",
      "\u001b[0;32m/opt/conda/lib/python3.9/site-packages/pandas/core/frame.py\u001b[0m in \u001b[0;36m__init__\u001b[0;34m(self, data, index, columns, dtype, copy)\u001b[0m\n\u001b[1;32m    582\u001b[0m                     \u001b[0mmgr\u001b[0m \u001b[0;34m=\u001b[0m \u001b[0marrays_to_mgr\u001b[0m\u001b[0;34m(\u001b[0m\u001b[0marrays\u001b[0m\u001b[0;34m,\u001b[0m \u001b[0mcolumns\u001b[0m\u001b[0;34m,\u001b[0m \u001b[0mindex\u001b[0m\u001b[0;34m,\u001b[0m \u001b[0mcolumns\u001b[0m\u001b[0;34m,\u001b[0m \u001b[0mdtype\u001b[0m\u001b[0;34m=\u001b[0m\u001b[0mdtype\u001b[0m\u001b[0;34m)\u001b[0m\u001b[0;34m\u001b[0m\u001b[0;34m\u001b[0m\u001b[0m\n\u001b[1;32m    583\u001b[0m                 \u001b[0;32melse\u001b[0m\u001b[0;34m:\u001b[0m\u001b[0;34m\u001b[0m\u001b[0;34m\u001b[0m\u001b[0m\n\u001b[0;32m--> 584\u001b[0;31m                     \u001b[0mmgr\u001b[0m \u001b[0;34m=\u001b[0m \u001b[0minit_ndarray\u001b[0m\u001b[0;34m(\u001b[0m\u001b[0mdata\u001b[0m\u001b[0;34m,\u001b[0m \u001b[0mindex\u001b[0m\u001b[0;34m,\u001b[0m \u001b[0mcolumns\u001b[0m\u001b[0;34m,\u001b[0m \u001b[0mdtype\u001b[0m\u001b[0;34m=\u001b[0m\u001b[0mdtype\u001b[0m\u001b[0;34m,\u001b[0m \u001b[0mcopy\u001b[0m\u001b[0;34m=\u001b[0m\u001b[0mcopy\u001b[0m\u001b[0;34m)\u001b[0m\u001b[0;34m\u001b[0m\u001b[0;34m\u001b[0m\u001b[0m\n\u001b[0m\u001b[1;32m    585\u001b[0m             \u001b[0;32melse\u001b[0m\u001b[0;34m:\u001b[0m\u001b[0;34m\u001b[0m\u001b[0;34m\u001b[0m\u001b[0m\n\u001b[1;32m    586\u001b[0m                 \u001b[0mmgr\u001b[0m \u001b[0;34m=\u001b[0m \u001b[0minit_dict\u001b[0m\u001b[0;34m(\u001b[0m\u001b[0;34m{\u001b[0m\u001b[0;34m}\u001b[0m\u001b[0;34m,\u001b[0m \u001b[0mindex\u001b[0m\u001b[0;34m,\u001b[0m \u001b[0mcolumns\u001b[0m\u001b[0;34m,\u001b[0m \u001b[0mdtype\u001b[0m\u001b[0;34m=\u001b[0m\u001b[0mdtype\u001b[0m\u001b[0;34m)\u001b[0m\u001b[0;34m\u001b[0m\u001b[0;34m\u001b[0m\u001b[0m\n",
      "\u001b[0;32m/opt/conda/lib/python3.9/site-packages/pandas/core/internals/construction.py\u001b[0m in \u001b[0;36minit_ndarray\u001b[0;34m(values, index, columns, dtype, copy)\u001b[0m\n\u001b[1;32m    236\u001b[0m         \u001b[0mblock_values\u001b[0m \u001b[0;34m=\u001b[0m \u001b[0;34m[\u001b[0m\u001b[0mvalues\u001b[0m\u001b[0;34m]\u001b[0m\u001b[0;34m\u001b[0m\u001b[0;34m\u001b[0m\u001b[0m\n\u001b[1;32m    237\u001b[0m \u001b[0;34m\u001b[0m\u001b[0m\n\u001b[0;32m--> 238\u001b[0;31m     \u001b[0;32mreturn\u001b[0m \u001b[0mcreate_block_manager_from_blocks\u001b[0m\u001b[0;34m(\u001b[0m\u001b[0mblock_values\u001b[0m\u001b[0;34m,\u001b[0m \u001b[0;34m[\u001b[0m\u001b[0mcolumns\u001b[0m\u001b[0;34m,\u001b[0m \u001b[0mindex\u001b[0m\u001b[0;34m]\u001b[0m\u001b[0;34m)\u001b[0m\u001b[0;34m\u001b[0m\u001b[0;34m\u001b[0m\u001b[0m\n\u001b[0m\u001b[1;32m    239\u001b[0m \u001b[0;34m\u001b[0m\u001b[0m\n\u001b[1;32m    240\u001b[0m \u001b[0;34m\u001b[0m\u001b[0m\n",
      "\u001b[0;32m/opt/conda/lib/python3.9/site-packages/pandas/core/internals/managers.py\u001b[0m in \u001b[0;36mcreate_block_manager_from_blocks\u001b[0;34m(blocks, axes)\u001b[0m\n\u001b[1;32m   1685\u001b[0m         \u001b[0mblocks\u001b[0m \u001b[0;34m=\u001b[0m \u001b[0;34m[\u001b[0m\u001b[0mgetattr\u001b[0m\u001b[0;34m(\u001b[0m\u001b[0mb\u001b[0m\u001b[0;34m,\u001b[0m \u001b[0;34m\"values\"\u001b[0m\u001b[0;34m,\u001b[0m \u001b[0mb\u001b[0m\u001b[0;34m)\u001b[0m \u001b[0;32mfor\u001b[0m \u001b[0mb\u001b[0m \u001b[0;32min\u001b[0m \u001b[0mblocks\u001b[0m\u001b[0;34m]\u001b[0m\u001b[0;34m\u001b[0m\u001b[0;34m\u001b[0m\u001b[0m\n\u001b[1;32m   1686\u001b[0m         \u001b[0mtot_items\u001b[0m \u001b[0;34m=\u001b[0m \u001b[0msum\u001b[0m\u001b[0;34m(\u001b[0m\u001b[0mb\u001b[0m\u001b[0;34m.\u001b[0m\u001b[0mshape\u001b[0m\u001b[0;34m[\u001b[0m\u001b[0;36m0\u001b[0m\u001b[0;34m]\u001b[0m \u001b[0;32mfor\u001b[0m \u001b[0mb\u001b[0m \u001b[0;32min\u001b[0m \u001b[0mblocks\u001b[0m\u001b[0;34m)\u001b[0m\u001b[0;34m\u001b[0m\u001b[0;34m\u001b[0m\u001b[0m\n\u001b[0;32m-> 1687\u001b[0;31m         \u001b[0;32mraise\u001b[0m \u001b[0mconstruction_error\u001b[0m\u001b[0;34m(\u001b[0m\u001b[0mtot_items\u001b[0m\u001b[0;34m,\u001b[0m \u001b[0mblocks\u001b[0m\u001b[0;34m[\u001b[0m\u001b[0;36m0\u001b[0m\u001b[0;34m]\u001b[0m\u001b[0;34m.\u001b[0m\u001b[0mshape\u001b[0m\u001b[0;34m[\u001b[0m\u001b[0;36m1\u001b[0m\u001b[0;34m:\u001b[0m\u001b[0;34m]\u001b[0m\u001b[0;34m,\u001b[0m \u001b[0maxes\u001b[0m\u001b[0;34m,\u001b[0m \u001b[0me\u001b[0m\u001b[0;34m)\u001b[0m\u001b[0;34m\u001b[0m\u001b[0;34m\u001b[0m\u001b[0m\n\u001b[0m\u001b[1;32m   1688\u001b[0m \u001b[0;34m\u001b[0m\u001b[0m\n\u001b[1;32m   1689\u001b[0m \u001b[0;34m\u001b[0m\u001b[0m\n",
      "\u001b[0;31mValueError\u001b[0m: Shape of passed values is (5, 1), indices imply (5, 106)"
     ]
    }
   ],
   "source": [
    "coefs = [estimator[-1].coef_[0] for estimator in cv_results[\"estimator\"]]\n",
    "coefs = pd.DataFrame(coefs, columns=feature_names)\n",
    "\n",
    "# Define the style of the box style\n",
    "boxplot_property = {\n",
    "    \"vert\": False,\n",
    "    \"whis\": 100,\n",
    "    \"patch_artist\": True,\n",
    "    \"widths\": 0.5,\n",
    "    \"boxprops\": dict(linewidth=3, color=\"black\", alpha=0.9),\n",
    "    \"medianprops\": dict(linewidth=2.5, color=\"black\", alpha=0.9),\n",
    "    \"whiskerprops\": dict(linewidth=3, color=\"black\", alpha=0.9),\n",
    "    \"capprops\": dict(linewidth=3, color=\"black\", alpha=0.9),\n",
    "}\n",
    "\n",
    "_, ax = plt.subplots(figsize=(10, 35))\n",
    "_ = coefs.abs().plot.box(**boxplot_property, ax=ax)"
   ]
  },
  {
   "cell_type": "code",
   "execution_count": null,
   "metadata": {},
   "outputs": [],
   "source": []
  }
 ],
 "metadata": {
  "kernelspec": {
   "display_name": "Python 3",
   "language": "python",
   "name": "python3"
  },
  "language_info": {
   "codemirror_mode": {
    "name": "ipython",
    "version": 3
   },
   "file_extension": ".py",
   "mimetype": "text/x-python",
   "name": "python",
   "nbconvert_exporter": "python",
   "pygments_lexer": "ipython3",
   "version": "3.9.2"
  }
 },
 "nbformat": 4,
 "nbformat_minor": 4
}
