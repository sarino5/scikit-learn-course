{
 "cells": [
  {
   "cell_type": "code",
   "execution_count": 1,
   "metadata": {},
   "outputs": [],
   "source": [
    "import pandas as pd\n",
    "\n",
    "blood_transfusion = pd.read_csv(\"../datasets/blood_transfusion.csv\")\n",
    "data = blood_transfusion.drop(columns=\"Class\")\n",
    "target = blood_transfusion[\"Class\"]"
   ]
  },
  {
   "cell_type": "code",
   "execution_count": 2,
   "metadata": {},
   "outputs": [
    {
     "data": {
      "text/plain": [
       "{'fit_time': array([0.00092244, 0.00070095, 0.00068188, 0.0006721 , 0.00066638,\n",
       "        0.00069261, 0.00068235, 0.00066662, 0.00067115, 0.00065947]),\n",
       " 'score_time': array([0.00100684, 0.00080943, 0.00079894, 0.00078917, 0.00078797,\n",
       "        0.00078273, 0.00078893, 0.00078845, 0.00078154, 0.00078583]),\n",
       " 'test_accuracy': array([0.76      , 0.76      , 0.76      , 0.76      , 0.76      ,\n",
       "        0.76      , 0.76      , 0.76      , 0.77027027, 0.77027027]),\n",
       " 'test_balanced_accuracy': array([0.5, 0.5, 0.5, 0.5, 0.5, 0.5, 0.5, 0.5, 0.5, 0.5])}"
      ]
     },
     "execution_count": 2,
     "metadata": {},
     "output_type": "execute_result"
    }
   ],
   "source": [
    "from sklearn.dummy import DummyClassifier\n",
    "from sklearn.model_selection import cross_validate\n",
    "\n",
    "dummy_clf = DummyClassifier(strategy='most_frequent')\n",
    "scoring = ['accuracy','balanced_accuracy']\n",
    "\n",
    "cv_result =cross_validate(dummy_clf, data, target, cv = 10, scoring=scoring)\n",
    "cv_result"
   ]
  },
  {
   "cell_type": "code",
   "execution_count": 3,
   "metadata": {},
   "outputs": [
    {
     "data": {
      "text/plain": [
       "{'fit_time': array([0.00311112, 0.00281119, 0.00277424, 0.00269675, 0.00267553,\n",
       "        0.00267029, 0.00263858, 0.00266719, 0.00262904, 0.00262332]),\n",
       " 'score_time': array([0.00189233, 0.00177217, 0.00176883, 0.00175095, 0.0017519 ,\n",
       "        0.00174737, 0.00171208, 0.00169182, 0.00169754, 0.00168943]),\n",
       " 'test_accuracy': array([0.30666667, 0.50666667, 0.76      , 0.56      , 0.6       ,\n",
       "        0.64      , 0.70666667, 0.78666667, 0.66216216, 0.75675676]),\n",
       " 'test_balanced_accuracy': array([0.42982456, 0.46637427, 0.65204678, 0.3874269 , 0.43274854,\n",
       "        0.42105263, 0.55994152, 0.74561404, 0.49174407, 0.51186791])}"
      ]
     },
     "execution_count": 3,
     "metadata": {},
     "output_type": "execute_result"
    }
   ],
   "source": [
    "from sklearn.tree import DecisionTreeClassifier\n",
    "\n",
    "tree = DecisionTreeClassifier()\n",
    "\n",
    "cv_result =cross_validate(tree, data, target, cv = 10, scoring=scoring)\n",
    "cv_result"
   ]
  },
  {
   "cell_type": "code",
   "execution_count": 4,
   "metadata": {},
   "outputs": [
    {
     "name": "stdout",
     "output_type": "stream",
     "text": [
      "0.629 +/- 0.138\n"
     ]
    }
   ],
   "source": [
    "print(f\"{cv_result['test_accuracy'].mean():.3f} +/- {cv_result['test_accuracy'].std():.3f}\")"
   ]
  },
  {
   "cell_type": "code",
   "execution_count": 5,
   "metadata": {},
   "outputs": [
    {
     "name": "stdout",
     "output_type": "stream",
     "text": [
      "0.510 +/- 0.108\n"
     ]
    }
   ],
   "source": [
    "print(f\"{cv_result['test_balanced_accuracy'].mean():.3f} +/- {cv_result['test_balanced_accuracy'].std():.3f}\")"
   ]
  },
  {
   "cell_type": "code",
   "execution_count": 10,
   "metadata": {},
   "outputs": [],
   "source": [
    "from sklearn.ensemble import RandomForestClassifier\n",
    "\n",
    "rdm_forest = RandomForestClassifier(n_estimators=300)\n",
    "\n",
    "cv_result =cross_validate(rdm_forest, data, target, cv = 10, scoring=scoring)\n"
   ]
  },
  {
   "cell_type": "code",
   "execution_count": 7,
   "metadata": {
    "scrolled": true
   },
   "outputs": [
    {
     "name": "stdout",
     "output_type": "stream",
     "text": [
      "0.667 +/- 0.132\n",
      "0.531 +/- 0.077\n"
     ]
    }
   ],
   "source": [
    "print(f\"{cv_result['test_accuracy'].mean():.3f} +/- {cv_result['test_accuracy'].std():.3f}\")\n",
    "print(f\"{cv_result['test_balanced_accuracy'].mean():.3f} +/- {cv_result['test_balanced_accuracy'].std():.3f}\")"
   ]
  },
  {
   "cell_type": "code",
   "execution_count": 11,
   "metadata": {},
   "outputs": [
    {
     "data": {
      "text/plain": [
       "{'fit_time': array([0.36107397, 0.36583591, 0.36651897, 0.36266136, 0.3644135 ,\n",
       "        0.35930729, 0.35817647, 0.36388445, 0.36340451, 0.36148238]),\n",
       " 'score_time': array([0.02442741, 0.02405334, 0.02421546, 0.02432466, 0.02456999,\n",
       "        0.02368951, 0.02361608, 0.0241816 , 0.02435398, 0.02367592]),\n",
       " 'test_accuracy': array([0.32      , 0.56      , 0.78666667, 0.65333333, 0.73333333,\n",
       "        0.74666667, 0.68      , 0.73333333, 0.7027027 , 0.74324324]),\n",
       " 'test_balanced_accuracy': array([0.51461988, 0.48245614, 0.63157895, 0.46783626, 0.48245614,\n",
       "        0.49122807, 0.56140351, 0.65350877, 0.49742002, 0.48245614])}"
      ]
     },
     "execution_count": 11,
     "metadata": {},
     "output_type": "execute_result"
    }
   ],
   "source": [
    "cv_result"
   ]
  },
  {
   "cell_type": "code",
   "execution_count": 8,
   "metadata": {
    "scrolled": true
   },
   "outputs": [
    {
     "name": "stdout",
     "output_type": "stream",
     "text": [
      "0.691 +/- 0.136\n",
      "0.537 +/- 0.073\n"
     ]
    }
   ],
   "source": [
    "from sklearn.ensemble import GradientBoostingClassifier\n",
    "\n",
    "gd_boost = GradientBoostingClassifier(n_estimators=300)\n",
    "\n",
    "cv_result =cross_validate(gd_boost, data, target, cv = 10, scoring=scoring)\n",
    "\n",
    "print(f\"{cv_result['test_accuracy'].mean():.3f} +/- {cv_result['test_accuracy'].std():.3f}\")\n",
    "print(f\"{cv_result['test_balanced_accuracy'].mean():.3f} +/- {cv_result['test_balanced_accuracy'].std():.3f}\")"
   ]
  },
  {
   "cell_type": "code",
   "execution_count": 9,
   "metadata": {},
   "outputs": [
    {
     "data": {
      "text/plain": [
       "{'fit_time': array([0.18156266, 0.18251967, 0.17985368, 0.17889595, 0.17969704,\n",
       "        0.18124151, 0.17778325, 0.17790699, 0.17844129, 0.17802215]),\n",
       " 'score_time': array([0.00286555, 0.00263095, 0.00289536, 0.00210404, 0.00207758,\n",
       "        0.00265574, 0.0022037 , 0.00206447, 0.0021522 , 0.00205564]),\n",
       " 'test_accuracy': array([0.29333333, 0.69333333, 0.8       , 0.76      , 0.72      ,\n",
       "        0.72      , 0.69333333, 0.73333333, 0.74324324, 0.75675676]),\n",
       " 'test_balanced_accuracy': array([0.44005848, 0.62719298, 0.64035088, 0.5380117 , 0.47368421,\n",
       "        0.47368421, 0.53216374, 0.65350877, 0.50309598, 0.49122807])}"
      ]
     },
     "execution_count": 9,
     "metadata": {},
     "output_type": "execute_result"
    }
   ],
   "source": [
    "cv_result"
   ]
  },
  {
   "cell_type": "code",
   "execution_count": 13,
   "metadata": {},
   "outputs": [
    {
     "data": {
      "text/plain": [
       "10"
      ]
     },
     "execution_count": 13,
     "metadata": {},
     "output_type": "execute_result"
    }
   ],
   "source": [
    "#answer of Q5\n",
    "from sklearn.model_selection import cross_val_score\n",
    "from sklearn.ensemble import RandomForestClassifier\n",
    "from sklearn.ensemble import GradientBoostingClassifier\n",
    "from sklearn.model_selection import KFold\n",
    "\n",
    "n_try = 10\n",
    "scores_rf, scores_gbdt = [], []\n",
    "for seed in range(n_try):\n",
    "    cv = KFold(n_splits=10, shuffle=True, random_state=seed)\n",
    "\n",
    "    rf = RandomForestClassifier(n_estimators=300, n_jobs=2)\n",
    "    scores = cross_val_score(\n",
    "        rf, data, target, cv=cv, scoring=\"balanced_accuracy\", n_jobs=2\n",
    "    )\n",
    "    scores_rf.append(scores.mean())\n",
    "\n",
    "    gbdt = GradientBoostingClassifier(n_estimators=300)\n",
    "    scores = cross_val_score(\n",
    "        gbdt, data, target, cv=cv, scoring=\"balanced_accuracy\", n_jobs=2\n",
    "    )\n",
    "    scores_gbdt.append(scores.mean())\n",
    "\n",
    "compare = [s_gbdt > s_rf for s_gbdt, s_rf in zip(scores_gbdt, scores_rf)]\n",
    "sum(compare)\n"
   ]
  },
  {
   "cell_type": "code",
   "execution_count": 23,
   "metadata": {},
   "outputs": [
    {
     "name": "stdout",
     "output_type": "stream",
     "text": [
      "0.734 +/- 0.132\n",
      "0.577 +/- 0.095\n"
     ]
    }
   ],
   "source": [
    "from sklearn.experimental import enable_hist_gradient_boosting\n",
    "# now you can import normally from ensemble\n",
    "from sklearn.ensemble import HistGradientBoostingClassifier\n",
    "\n",
    "histogram_gradient_boosting = HistGradientBoostingClassifier(\n",
    "    max_iter=1000, early_stopping=True)\n",
    "\n",
    "\n",
    "cv_result =cross_validate(histogram_gradient_boosting, data, target, cv = 10, scoring=scoring, return_estimator=True)\n",
    "\n",
    "print(f\"{cv_result['test_accuracy'].mean():.3f} +/- {cv_result['test_accuracy'].std():.3f}\")\n",
    "print(f\"{cv_result['test_balanced_accuracy'].mean():.3f} +/- {cv_result['test_balanced_accuracy'].std():.3f}\")\n"
   ]
  },
  {
   "cell_type": "code",
   "execution_count": 21,
   "metadata": {
    "scrolled": true
   },
   "outputs": [
    {
     "name": "stdout",
     "output_type": "stream",
     "text": [
      "[35, 16, 29, 20, 26, 15, 33, 14, 38, 26, 20, 18, 55, 49, 26, 26, 19, 112, 20, 25]\n",
      "[1, 1, 1, 1, 1, 1, 1, 1, 1, 1]\n"
     ]
    }
   ],
   "source": [
    "from sklearn.model_selection import train_test_split\n",
    "\n",
    "X_train, X_test, y_train, y_test = train_test_split(data, target)\n",
    "\n",
    "iterations = []\n",
    "trees = []\n",
    "\n",
    "for n in range(10):\n",
    "    histogram_gradient_boosting.fit(X_train, y_train)\n",
    "    iterations.append(histogram_gradient_boosting.n_iter_)\n",
    "    trees.append(histogram_gradient_boosting.n_trees_per_iteration_)\n",
    "print(fitters)\n",
    "print(trees)"
   ]
  },
  {
   "cell_type": "code",
   "execution_count": 22,
   "metadata": {
    "scrolled": true
   },
   "outputs": [
    {
     "data": {
      "text/plain": [
       "32.0"
      ]
     },
     "execution_count": 22,
     "metadata": {},
     "output_type": "execute_result"
    }
   ],
   "source": [
    "sum(iterations) / len(iterations)\n",
    "    "
   ]
  },
  {
   "cell_type": "code",
   "execution_count": 16,
   "metadata": {},
   "outputs": [
    {
     "data": {
      "text/plain": [
       "10"
      ]
     },
     "execution_count": 16,
     "metadata": {},
     "output_type": "execute_result"
    }
   ],
   "source": [
    "len(trees)"
   ]
  },
  {
   "cell_type": "code",
   "execution_count": 17,
   "metadata": {},
   "outputs": [
    {
     "data": {
      "text/plain": [
       "[]"
      ]
     },
     "execution_count": 17,
     "metadata": {},
     "output_type": "execute_result"
    }
   ],
   "source": [
    "iterations"
   ]
  },
  {
   "cell_type": "code",
   "execution_count": 24,
   "metadata": {},
   "outputs": [
    {
     "data": {
      "text/plain": [
       "0.6010663914688682"
      ]
     },
     "execution_count": 24,
     "metadata": {},
     "output_type": "execute_result"
    }
   ],
   "source": [
    "from imblearn.ensemble import BalancedBaggingClassifier\n",
    "from sklearn.model_selection import cross_val_score\n",
    "\n",
    "\n",
    "balanced_bagging = BalancedBaggingClassifier(\n",
    "    histogram_gradient_boosting, n_estimators=50, n_jobs=2, random_state=0\n",
    ")\n",
    "scores_balanced_bagging = cross_val_score(\n",
    "    balanced_bagging, data, target, cv=10, scoring=\"balanced_accuracy\",\n",
    "    n_jobs=2\n",
    ")\n",
    "scores_balanced_bagging.mean()"
   ]
  }
 ],
 "metadata": {
  "kernelspec": {
   "display_name": "Python 3",
   "language": "python",
   "name": "python3"
  },
  "language_info": {
   "codemirror_mode": {
    "name": "ipython",
    "version": 3
   },
   "file_extension": ".py",
   "mimetype": "text/x-python",
   "name": "python",
   "nbconvert_exporter": "python",
   "pygments_lexer": "ipython3",
   "version": "3.9.2"
  }
 },
 "nbformat": 4,
 "nbformat_minor": 4
}
