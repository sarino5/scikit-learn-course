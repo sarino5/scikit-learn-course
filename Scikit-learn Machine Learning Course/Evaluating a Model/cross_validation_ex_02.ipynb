{
 "cells": [
  {
   "cell_type": "markdown",
   "id": "74305715",
   "metadata": {},
   "source": [
    "# 📝 Exercise M7.01\n",
    "\n",
    "This notebook aims at building baseline classifiers, which we'll use to\n",
    "compare our predictive model. Besides, we will check the differences with\n",
    "the baselines that we saw in regression.\n",
    "\n",
    "We will use the adult census dataset, using only the numerical features."
   ]
  },
  {
   "cell_type": "code",
   "execution_count": 4,
   "id": "eeee4817",
   "metadata": {},
   "outputs": [],
   "source": [
    "import pandas as pd\n",
    "\n",
    "adult_census = pd.read_csv(\"../datasets/adult-census-numeric-all.csv\")\n",
    "data, target = adult_census.drop(columns=\"class\"), adult_census[\"class\"]"
   ]
  },
  {
   "cell_type": "markdown",
   "id": "06016f3e",
   "metadata": {},
   "source": [
    "First, define a `ShuffleSplit` cross-validation strategy taking half of the\n",
    "sample as a testing at each round."
   ]
  },
  {
   "cell_type": "code",
   "execution_count": 1,
   "id": "cf9f89d2",
   "metadata": {},
   "outputs": [],
   "source": [
    "# Write your code here.\n",
    "from sklearn.model_selection import ShuffleSplit\n",
    "\n",
    "cv = ShuffleSplit(n_splits=10, test_size=0.5, random_state=0)"
   ]
  },
  {
   "cell_type": "markdown",
   "id": "1a35d086",
   "metadata": {},
   "source": [
    "Next, create a machine learning pipeline composed of a transformer to\n",
    "standardize the data followed by a logistic regression."
   ]
  },
  {
   "cell_type": "code",
   "execution_count": 2,
   "id": "3af44da2",
   "metadata": {},
   "outputs": [],
   "source": [
    "# Write your code here.\n",
    "from sklearn.pipeline import make_pipeline\n",
    "from sklearn.preprocessing import StandardScaler\n",
    "from sklearn.linear_model import LogisticRegression\n",
    "\n",
    "classifier = make_pipeline(StandardScaler(), LogisticRegression())"
   ]
  },
  {
   "cell_type": "markdown",
   "id": "de25917a",
   "metadata": {},
   "source": [
    "Get the test score by using the model, the data, and the cross-validation\n",
    "strategy that you defined above."
   ]
  },
  {
   "cell_type": "code",
   "execution_count": 5,
   "id": "dc320be8",
   "metadata": {},
   "outputs": [],
   "source": [
    "# Write your code here.\n",
    "from sklearn.model_selection import cross_validate\n",
    "\n",
    "result_classifier = cross_validate(classifier, data, target, cv=cv, n_jobs=2)\n",
    "\n",
    "test_score_classifier = pd.Series(\n",
    "    result_classifier[\"test_score\"], name=\"Classifier score\")"
   ]
  },
  {
   "cell_type": "markdown",
   "id": "26f7d4b4",
   "metadata": {},
   "source": [
    "Using the `sklearn.model_selection.permutation_test_score` function,\n",
    "check the chance level of the previous model."
   ]
  },
  {
   "cell_type": "code",
   "execution_count": 6,
   "id": "82ccbdf8",
   "metadata": {},
   "outputs": [],
   "source": [
    "# Write your code here.\n",
    "from sklearn.model_selection import permutation_test_score\n",
    "\n",
    "score, permutation_score, pvalue = permutation_test_score(\n",
    "    classifier, data, target, cv=cv, n_jobs=2, n_permutations=10)\n",
    "test_score_permutation = pd.Series(permutation_score, name=\"Permuted score\")"
   ]
  },
  {
   "cell_type": "markdown",
   "id": "f3caa4bd",
   "metadata": {},
   "source": [
    "Finally, compute the test score of a dummy classifier which would predict\n",
    "the most frequent class from the training set. You can look at the\n",
    "`sklearn.dummy.DummyClassifier` class."
   ]
  },
  {
   "cell_type": "code",
   "execution_count": 7,
   "id": "89b99959",
   "metadata": {},
   "outputs": [],
   "source": [
    "# Write your code here.\n",
    "from sklearn.dummy import DummyClassifier\n",
    "\n",
    "dummy = DummyClassifier(strategy=\"most_frequent\")\n",
    "result_dummy = cross_validate(dummy, data, target, cv=cv, n_jobs=2)\n",
    "test_score_dummy = pd.Series(result_dummy[\"test_score\"], name=\"Dummy score\")"
   ]
  },
  {
   "cell_type": "markdown",
   "id": "78623341",
   "metadata": {},
   "source": [
    "Now that we collected the results from the baselines and the model, plot\n",
    "the distributions of the different test scores."
   ]
  },
  {
   "cell_type": "markdown",
   "id": "82d6c0c6",
   "metadata": {},
   "source": [
    "We concatenate the different test score in the same pandas dataframe."
   ]
  },
  {
   "cell_type": "code",
   "execution_count": 8,
   "id": "4468998f",
   "metadata": {},
   "outputs": [],
   "source": [
    "# Write your code here.\n",
    "final_test_scores = pd.concat(\n",
    "    [test_score_classifier, test_score_permutation, test_score_dummy],\n",
    "    axis=1,\n",
    ")"
   ]
  },
  {
   "cell_type": "markdown",
   "id": "b71ce903",
   "metadata": {},
   "source": [
    "Next, plot the distributions of the test scores."
   ]
  },
  {
   "cell_type": "code",
   "execution_count": 9,
   "id": "0762fc97",
   "metadata": {},
   "outputs": [
    {
     "data": {
      "image/png": "[encoded data removed]",
      "text/plain": [
       "<Figure size 432x288 with 1 Axes>"
      ]
     },
     "metadata": {
      "needs_background": "light"
     },
     "output_type": "display_data"
    }
   ],
   "source": [
    "# Write your code here.\n",
    "import matplotlib.pyplot as plt\n",
    "\n",
    "final_test_scores.plot.hist(bins=50, density=True, edgecolor=\"black\")\n",
    "plt.legend(bbox_to_anchor=(1.05, 0.8), loc=\"upper left\")\n",
    "plt.xlabel(\"Accuracy (%)\")\n",
    "_ = plt.title(\"Distribution of the test scores\")"
   ]
  },
  {
   "cell_type": "markdown",
   "id": "6a7a6512",
   "metadata": {},
   "source": [
    "Change the strategy of the dummy classifier to `stratified`, compute the\n",
    "results and plot the distribution together with the other results. Explain\n",
    "why the results get worse."
   ]
  },
  {
   "cell_type": "code",
   "execution_count": 10,
   "id": "3e3c17f4",
   "metadata": {},
   "outputs": [],
   "source": [
    "# Write your code here.\n",
    "dummy = DummyClassifier(strategy=\"stratified\")\n",
    "result_dummy_stratify = cross_validate(dummy, data, target, cv=cv, n_jobs=2)\n",
    "test_score_dummy_stratify = pd.Series(\n",
    "    result_dummy_stratify[\"test_score\"], name=\"Dummy 'stratify' score\")"
   ]
  },
  {
   "cell_type": "code",
   "execution_count": null,
   "id": "26e3bbd7",
   "metadata": {},
   "outputs": [],
   "source": []
  }
 ],
 "metadata": {
  "jupytext": {
   "cell_metadata_filter": "-all",
   "main_language": "python",
   "notebook_metadata_filter": "-all"
  },
  "kernelspec": {
   "display_name": "Python 3",
   "language": "python",
   "name": "python3"
  },
  "language_info": {
   "codemirror_mode": {
    "name": "ipython",
    "version": 3
   },
   "file_extension": ".py",
   "mimetype": "text/x-python",
   "name": "python",
   "nbconvert_exporter": "python",
   "pygments_lexer": "ipython3",
   "version": "3.9.2"
  },
  "nbreset": "https://github.com/INRIA/scikit-learn-mooc/raw/master/notebooks/cross_validation_ex_02.ipynb"
 },
 "nbformat": 4,
 "nbformat_minor": 5
}
