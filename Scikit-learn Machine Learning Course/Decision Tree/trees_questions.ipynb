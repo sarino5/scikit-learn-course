{
 "cells": [
  {
   "cell_type": "code",
   "execution_count": 1,
   "metadata": {},
   "outputs": [],
   "source": [
    "import pandas as pd\n",
    "ames_housing = pd.read_csv(\"../datasets/house_prices.csv\", na_values=\"?\")\n",
    "target_name = \"SalePrice\"\n",
    "data = ames_housing.drop(columns=target_name)\n",
    "target = ames_housing[target_name]"
   ]
  },
  {
   "cell_type": "code",
   "execution_count": 2,
   "metadata": {},
   "outputs": [],
   "source": [
    "numerical_features = [\n",
    "    \"LotFrontage\", \"LotArea\", \"MasVnrArea\", \"BsmtFinSF1\", \"BsmtFinSF2\",\n",
    "    \"BsmtUnfSF\", \"TotalBsmtSF\", \"1stFlrSF\", \"2ndFlrSF\", \"LowQualFinSF\",\n",
    "    \"GrLivArea\", \"BedroomAbvGr\", \"KitchenAbvGr\", \"TotRmsAbvGrd\", \"Fireplaces\",\n",
    "    \"GarageCars\", \"GarageArea\", \"WoodDeckSF\", \"OpenPorchSF\", \"EnclosedPorch\",\n",
    "    \"3SsnPorch\", \"ScreenPorch\", \"PoolArea\", \"MiscVal\",\n",
    "]\n",
    "\n",
    "data_numerical = data[numerical_features]"
   ]
  },
  {
   "cell_type": "code",
   "execution_count": 3,
   "metadata": {},
   "outputs": [
    {
     "name": "stdout",
     "output_type": "stream",
     "text": [
      "0.719 +/- 0.141\n"
     ]
    }
   ],
   "source": [
    "from sklearn.model_selection import cross_validate\n",
    "from sklearn.pipeline import make_pipeline\n",
    "from sklearn.preprocessing import StandardScaler\n",
    "from sklearn.linear_model import LinearRegression\n",
    "from sklearn.impute import SimpleImputer\n",
    "\n",
    "model = make_pipeline(\n",
    "    StandardScaler(),\n",
    "    SimpleImputer(),\n",
    "    LinearRegression())\n",
    "\n",
    "cv_result = cross_validate(model, data_numerical, target,\n",
    "                           cv=10, scoring='r2')\n",
    "print(f\"{cv_result['test_score'].mean():.3f} +/- {cv_result['test_score'].std():.3f}\")"
   ]
  },
  {
   "cell_type": "code",
   "execution_count": 4,
   "metadata": {},
   "outputs": [
    {
     "name": "stdout",
     "output_type": "stream",
     "text": [
      "0.637 +/- 0.086\n"
     ]
    }
   ],
   "source": [
    "from sklearn.tree import DecisionTreeRegressor\n",
    "\n",
    "model = make_pipeline(SimpleImputer(),\n",
    "    DecisionTreeRegressor())\n",
    "\n",
    "cv_result = cross_validate(model, data_numerical, target,\n",
    "                           cv=10,scoring='r2')\n",
    "print(f\"{cv_result['test_score'].mean():.3f} +/- {cv_result['test_score'].std():.3f}\")"
   ]
  },
  {
   "cell_type": "code",
   "execution_count": 5,
   "metadata": {
    "scrolled": true
   },
   "outputs": [
    {
     "data": {
      "text/plain": [
       "{'mean_fit_time': array([0.004879  , 0.0057874 , 0.00673494, 0.00770848, 0.00858746,\n",
       "        0.00946727, 0.01028898, 0.01106436, 0.01184275, 0.01252937,\n",
       "        0.01316512, 0.01371272, 0.01426158, 0.01455791, 0.01488969]),\n",
       " 'std_fit_time': array([2.77734313e-04, 4.45091729e-05, 2.98101796e-05, 3.72798612e-05,\n",
       "        1.68486886e-05, 4.96012879e-05, 6.83994981e-05, 7.53226931e-05,\n",
       "        7.92964890e-05, 6.08074889e-05, 5.72114431e-05, 1.11823400e-04,\n",
       "        1.41618436e-04, 8.43003762e-05, 6.58793678e-05]),\n",
       " 'mean_score_time': array([0.00154414, 0.00149415, 0.00147495, 0.00147669, 0.00147712,\n",
       "        0.00147903, 0.00148141, 0.00149875, 0.00147288, 0.00147693,\n",
       "        0.00149264, 0.00149515, 0.00148573, 0.00148146, 0.00148582]),\n",
       " 'std_score_time': array([4.30286026e-05, 1.48473531e-05, 6.29732028e-06, 4.73493536e-06,\n",
       "        6.42691764e-06, 3.35018403e-06, 6.28652424e-06, 2.44654640e-05,\n",
       "        4.86636792e-06, 6.33857215e-06, 1.76172455e-05, 1.91693430e-05,\n",
       "        1.79999553e-05, 7.10315331e-06, 2.66651756e-05]),\n",
       " 'param_decisiontreeregressor__max_depth': masked_array(data=[1, 2, 3, 4, 5, 6, 7, 8, 9, 10, 11, 12, 13, 14, 15],\n",
       "              mask=[False, False, False, False, False, False, False, False,\n",
       "                    False, False, False, False, False, False, False],\n",
       "        fill_value='?',\n",
       "             dtype=object),\n",
       " 'params': [{'decisiontreeregressor__max_depth': 1},\n",
       "  {'decisiontreeregressor__max_depth': 2},\n",
       "  {'decisiontreeregressor__max_depth': 3},\n",
       "  {'decisiontreeregressor__max_depth': 4},\n",
       "  {'decisiontreeregressor__max_depth': 5},\n",
       "  {'decisiontreeregressor__max_depth': 6},\n",
       "  {'decisiontreeregressor__max_depth': 7},\n",
       "  {'decisiontreeregressor__max_depth': 8},\n",
       "  {'decisiontreeregressor__max_depth': 9},\n",
       "  {'decisiontreeregressor__max_depth': 10},\n",
       "  {'decisiontreeregressor__max_depth': 11},\n",
       "  {'decisiontreeregressor__max_depth': 12},\n",
       "  {'decisiontreeregressor__max_depth': 13},\n",
       "  {'decisiontreeregressor__max_depth': 14},\n",
       "  {'decisiontreeregressor__max_depth': 15}],\n",
       " 'split0_test_score': array([0.36087445, 0.46662848, 0.559966  , 0.52400818, 0.57893657,\n",
       "        0.65030935, 0.62294638, 0.58544418, 0.66245922, 0.65073545,\n",
       "        0.55556042, 0.53737548, 0.52425998, 0.56357932, 0.54303567]),\n",
       " 'split1_test_score': array([0.45903848, 0.60682223, 0.69747043, 0.75334754, 0.76720246,\n",
       "        0.72443379, 0.73643413, 0.69421123, 0.69354838, 0.71928359,\n",
       "        0.66104   , 0.68670904, 0.70337016, 0.67314448, 0.7046428 ]),\n",
       " 'split2_test_score': array([0.39037575, 0.52866751, 0.60624214, 0.64369812, 0.65619836,\n",
       "        0.6790692 , 0.73161453, 0.772137  , 0.7509944 , 0.74330501,\n",
       "        0.74047891, 0.73329911, 0.70751706, 0.71206072, 0.7021877 ]),\n",
       " 'split3_test_score': array([0.36773991, 0.46701887, 0.39408352, 0.42535827, 0.4745161 ,\n",
       "        0.61593787, 0.59185711, 0.47743996, 0.61757012, 0.45755592,\n",
       "        0.48222306, 0.50629562, 0.47424997, 0.61543832, 0.43935869]),\n",
       " 'split4_test_score': array([0.38314433, 0.53045087, 0.65380269, 0.74241582, 0.7380518 ,\n",
       "        0.76417411, 0.77879377, 0.7672262 , 0.74214187, 0.7061057 ,\n",
       "        0.7031514 , 0.71057928, 0.72185849, 0.74435073, 0.69999851]),\n",
       " 'split5_test_score': array([0.39710771, 0.55403063, 0.60628378, 0.76600399, 0.74943452,\n",
       "        0.71889121, 0.74775863, 0.72455794, 0.71068978, 0.66990861,\n",
       "        0.65923891, 0.62474301, 0.62069113, 0.66273959, 0.64242427]),\n",
       " 'split6_test_score': array([0.37913439, 0.47331022, 0.58665483, 0.65386145, 0.66928018,\n",
       "        0.67908796, 0.67961279, 0.55326883, 0.53569177, 0.54829786,\n",
       "        0.52499481, 0.52936865, 0.50777876, 0.51628018, 0.53784002]),\n",
       " 'split7_test_score': array([0.26282346, 0.40104226, 0.55452064, 0.68548025, 0.75693336,\n",
       "        0.7666175 , 0.72941783, 0.70682707, 0.68335577, 0.68431695,\n",
       "        0.63053451, 0.64603493, 0.62551732, 0.63489986, 0.61726572]),\n",
       " 'split8_test_score': array([0.30650127, 0.45742213, 0.60039879, 0.75283582, 0.74639639,\n",
       "        0.71857137, 0.63561277, 0.45355927, 0.52359799, 0.60038183,\n",
       "        0.42375056, 0.63241706, 0.41519251, 0.41137769, 0.51936892]),\n",
       " 'split9_test_score': array([0.23728784, 0.46775026, 0.59268244, 0.6782516 , 0.71186163,\n",
       "        0.72866512, 0.73362048, 0.7386335 , 0.73902487, 0.70921916,\n",
       "        0.70277353, 0.7134697 , 0.69435885, 0.69414913, 0.65790559]),\n",
       " 'mean_test_score': array([0.35440276, 0.49531434, 0.58521053, 0.66252611, 0.68488114,\n",
       "        0.70457575, 0.69876684, 0.64733052, 0.66590742, 0.64891101,\n",
       "        0.60837461, 0.63202919, 0.59947942, 0.622802  , 0.60640279]),\n",
       " 'std_test_score': array([0.06334124, 0.05605278, 0.0752269 , 0.10494473, 0.08945303,\n",
       "        0.0456928 , 0.05915261, 0.11361215, 0.07812045, 0.08459521,\n",
       "        0.10046841, 0.07848885, 0.10549082, 0.09576849, 0.08709131]),\n",
       " 'rank_test_score': array([15, 14, 13,  5,  3,  1,  2,  7,  4,  6, 10,  8, 12,  9, 11],\n",
       "       dtype=int32)}"
      ]
     },
     "execution_count": 5,
     "metadata": {},
     "output_type": "execute_result"
    }
   ],
   "source": [
    "#Q2\n",
    "from sklearn.model_selection import GridSearchCV\n",
    "import numpy as np\n",
    "\n",
    "param_grid = {\"decisiontreeregressor__max_depth\": np.arange(1, 16, 1)}\n",
    "\n",
    "\n",
    "tree_reg = GridSearchCV(model, \n",
    "                        param_grid=param_grid,cv = 10, scoring='r2')\n",
    "\n",
    "\n",
    "#print(f\"{cv_result['test_score'].mean():.3f} +/- {cv_result['test_score'].std():.3f}\")\n",
    "tree_reg = tree_reg.fit(data_numerical, target)\n",
    "tree_reg.cv_results_"
   ]
  },
  {
   "cell_type": "code",
   "execution_count": 7,
   "metadata": {},
   "outputs": [],
   "source": [
    "results = (\n",
    "    pd.DataFrame(tree_reg.cv_results_)\n",
    "    .sort_values(by=\"mean_test_score\", ascending=False)\n",
    ")\n",
    "\n",
    "results = results[\n",
    "    [c for c in results.columns if c.startswith(\"param_\")]\n",
    "    + [\"mean_test_score\", \"std_test_score\"]]"
   ]
  },
  {
   "cell_type": "code",
   "execution_count": 8,
   "metadata": {
    "scrolled": true
   },
   "outputs": [
    {
     "data": {
      "text/html": [
       "<div>\n",
       "<style scoped>\n",
       "    .dataframe tbody tr th:only-of-type {\n",
       "        vertical-align: middle;\n",
       "    }\n",
       "\n",
       "    .dataframe tbody tr th {\n",
       "        vertical-align: top;\n",
       "    }\n",
       "\n",
       "    .dataframe thead th {\n",
       "        text-align: right;\n",
       "    }\n",
       "</style>\n",
       "<table border=\"1\" class=\"dataframe\">\n",
       "  <thead>\n",
       "    <tr style=\"text-align: right;\">\n",
       "      <th></th>\n",
       "      <th>param_decisiontreeregressor__max_depth</th>\n",
       "      <th>mean_test_score</th>\n",
       "      <th>std_test_score</th>\n",
       "    </tr>\n",
       "  </thead>\n",
       "  <tbody>\n",
       "    <tr>\n",
       "      <th>5</th>\n",
       "      <td>6</td>\n",
       "      <td>0.704576</td>\n",
       "      <td>0.045693</td>\n",
       "    </tr>\n",
       "    <tr>\n",
       "      <th>6</th>\n",
       "      <td>7</td>\n",
       "      <td>0.698767</td>\n",
       "      <td>0.059153</td>\n",
       "    </tr>\n",
       "    <tr>\n",
       "      <th>4</th>\n",
       "      <td>5</td>\n",
       "      <td>0.684881</td>\n",
       "      <td>0.089453</td>\n",
       "    </tr>\n",
       "    <tr>\n",
       "      <th>8</th>\n",
       "      <td>9</td>\n",
       "      <td>0.665907</td>\n",
       "      <td>0.078120</td>\n",
       "    </tr>\n",
       "    <tr>\n",
       "      <th>3</th>\n",
       "      <td>4</td>\n",
       "      <td>0.662526</td>\n",
       "      <td>0.104945</td>\n",
       "    </tr>\n",
       "    <tr>\n",
       "      <th>9</th>\n",
       "      <td>10</td>\n",
       "      <td>0.648911</td>\n",
       "      <td>0.084595</td>\n",
       "    </tr>\n",
       "    <tr>\n",
       "      <th>7</th>\n",
       "      <td>8</td>\n",
       "      <td>0.647331</td>\n",
       "      <td>0.113612</td>\n",
       "    </tr>\n",
       "    <tr>\n",
       "      <th>11</th>\n",
       "      <td>12</td>\n",
       "      <td>0.632029</td>\n",
       "      <td>0.078489</td>\n",
       "    </tr>\n",
       "    <tr>\n",
       "      <th>13</th>\n",
       "      <td>14</td>\n",
       "      <td>0.622802</td>\n",
       "      <td>0.095768</td>\n",
       "    </tr>\n",
       "    <tr>\n",
       "      <th>10</th>\n",
       "      <td>11</td>\n",
       "      <td>0.608375</td>\n",
       "      <td>0.100468</td>\n",
       "    </tr>\n",
       "    <tr>\n",
       "      <th>14</th>\n",
       "      <td>15</td>\n",
       "      <td>0.606403</td>\n",
       "      <td>0.087091</td>\n",
       "    </tr>\n",
       "    <tr>\n",
       "      <th>12</th>\n",
       "      <td>13</td>\n",
       "      <td>0.599479</td>\n",
       "      <td>0.105491</td>\n",
       "    </tr>\n",
       "    <tr>\n",
       "      <th>2</th>\n",
       "      <td>3</td>\n",
       "      <td>0.585211</td>\n",
       "      <td>0.075227</td>\n",
       "    </tr>\n",
       "    <tr>\n",
       "      <th>1</th>\n",
       "      <td>2</td>\n",
       "      <td>0.495314</td>\n",
       "      <td>0.056053</td>\n",
       "    </tr>\n",
       "    <tr>\n",
       "      <th>0</th>\n",
       "      <td>1</td>\n",
       "      <td>0.354403</td>\n",
       "      <td>0.063341</td>\n",
       "    </tr>\n",
       "  </tbody>\n",
       "</table>\n",
       "</div>"
      ],
      "text/plain": [
       "   param_decisiontreeregressor__max_depth  mean_test_score  std_test_score\n",
       "5                                       6         0.704576        0.045693\n",
       "6                                       7         0.698767        0.059153\n",
       "4                                       5         0.684881        0.089453\n",
       "8                                       9         0.665907        0.078120\n",
       "3                                       4         0.662526        0.104945\n",
       "9                                      10         0.648911        0.084595\n",
       "7                                       8         0.647331        0.113612\n",
       "11                                     12         0.632029        0.078489\n",
       "13                                     14         0.622802        0.095768\n",
       "10                                     11         0.608375        0.100468\n",
       "14                                     15         0.606403        0.087091\n",
       "12                                     13         0.599479        0.105491\n",
       "2                                       3         0.585211        0.075227\n",
       "1                                       2         0.495314        0.056053\n",
       "0                                       1         0.354403        0.063341"
      ]
     },
     "execution_count": 8,
     "metadata": {},
     "output_type": "execute_result"
    }
   ],
   "source": [
    "results"
   ]
  },
  {
   "cell_type": "code",
   "execution_count": 9,
   "metadata": {},
   "outputs": [],
   "source": [
    "#Q4\n",
    "from sklearn.compose import make_column_selector as selector\n",
    "\n",
    "numerical_columns_selector = selector(dtype_exclude=object)\n",
    "categorical_columns_selector = selector(dtype_include=object)\n",
    "\n",
    "numerical_columns = numerical_columns_selector(data)\n",
    "categorical_columns = categorical_columns_selector(data)"
   ]
  },
  {
   "cell_type": "code",
   "execution_count": 15,
   "metadata": {},
   "outputs": [
    {
     "name": "stdout",
     "output_type": "stream",
     "text": [
      "The mean cross-validation accuracy is: 0.743 +/- 0.129\n"
     ]
    }
   ],
   "source": [
    "from sklearn.compose import ColumnTransformer\n",
    "from sklearn.preprocessing import OneHotEncoder\n",
    "\n",
    "num_transformer = make_pipeline(SimpleImputer())\n",
    "\n",
    "cat_transformer = make_pipeline(SimpleImputer(strategy = 'most_frequent'), OneHotEncoder(handle_unknown='ignore'))\n",
    "\n",
    "preprocessor = ColumnTransformer(transformers=[\n",
    "    (\"num-preprocessor\", num_transformer, numerical_columns),\n",
    "    ('cat-preprocessor',cat_transformer, categorical_columns)\n",
    "])\n",
    "\n",
    "model = make_pipeline(preprocessor, DecisionTreeRegressor(random_state=0))\n",
    "\n",
    "cv_result = cross_validate(model, data, target, cv=10)\n",
    "\n",
    "scores1 = cv_result[\"test_score\"]\n",
    "print(\"The mean cross-validation accuracy is: \"\n",
    "      f\"{scores1.mean():.3f} +/- {scores1.std():.3f}\")"
   ]
  },
  {
   "cell_type": "code",
   "execution_count": null,
   "metadata": {},
   "outputs": [],
   "source": []
  }
 ],
 "metadata": {
  "kernelspec": {
   "display_name": "Python 3",
   "language": "python",
   "name": "python3"
  },
  "language_info": {
   "codemirror_mode": {
    "name": "ipython",
    "version": 3
   },
   "file_extension": ".py",
   "mimetype": "text/x-python",
   "name": "python",
   "nbconvert_exporter": "python",
   "pygments_lexer": "ipython3",
   "version": "3.9.2"
  }
 },
 "nbformat": 4,
 "nbformat_minor": 4
}
