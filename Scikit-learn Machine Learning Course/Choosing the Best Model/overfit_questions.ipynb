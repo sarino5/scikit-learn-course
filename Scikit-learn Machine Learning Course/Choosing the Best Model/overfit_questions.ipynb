{
 "cells": [
  {
   "cell_type": "code",
   "execution_count": 2,
   "metadata": {},
   "outputs": [],
   "source": [
    "import pandas as pd\n",
    "\n",
    "blood_transfusion = pd.read_csv(\"../datasets/blood_transfusion.csv\")\n",
    "target_name = \"Class\"\n",
    "data = blood_transfusion.drop(columns=target_name)\n",
    "target = blood_transfusion[target_name]"
   ]
  },
  {
   "cell_type": "code",
   "execution_count": 3,
   "metadata": {},
   "outputs": [
    {
     "data": {
      "text/html": [
       "<div>\n",
       "<style scoped>\n",
       "    .dataframe tbody tr th:only-of-type {\n",
       "        vertical-align: middle;\n",
       "    }\n",
       "\n",
       "    .dataframe tbody tr th {\n",
       "        vertical-align: top;\n",
       "    }\n",
       "\n",
       "    .dataframe thead th {\n",
       "        text-align: right;\n",
       "    }\n",
       "</style>\n",
       "<table border=\"1\" class=\"dataframe\">\n",
       "  <thead>\n",
       "    <tr style=\"text-align: right;\">\n",
       "      <th></th>\n",
       "      <th>Recency</th>\n",
       "      <th>Frequency</th>\n",
       "      <th>Monetary</th>\n",
       "      <th>Time</th>\n",
       "      <th>Class</th>\n",
       "    </tr>\n",
       "  </thead>\n",
       "  <tbody>\n",
       "    <tr>\n",
       "      <th>0</th>\n",
       "      <td>2</td>\n",
       "      <td>50</td>\n",
       "      <td>12500</td>\n",
       "      <td>98</td>\n",
       "      <td>donated</td>\n",
       "    </tr>\n",
       "    <tr>\n",
       "      <th>1</th>\n",
       "      <td>0</td>\n",
       "      <td>13</td>\n",
       "      <td>3250</td>\n",
       "      <td>28</td>\n",
       "      <td>donated</td>\n",
       "    </tr>\n",
       "    <tr>\n",
       "      <th>2</th>\n",
       "      <td>1</td>\n",
       "      <td>16</td>\n",
       "      <td>4000</td>\n",
       "      <td>35</td>\n",
       "      <td>donated</td>\n",
       "    </tr>\n",
       "    <tr>\n",
       "      <th>3</th>\n",
       "      <td>2</td>\n",
       "      <td>20</td>\n",
       "      <td>5000</td>\n",
       "      <td>45</td>\n",
       "      <td>donated</td>\n",
       "    </tr>\n",
       "    <tr>\n",
       "      <th>4</th>\n",
       "      <td>1</td>\n",
       "      <td>24</td>\n",
       "      <td>6000</td>\n",
       "      <td>77</td>\n",
       "      <td>not donated</td>\n",
       "    </tr>\n",
       "  </tbody>\n",
       "</table>\n",
       "</div>"
      ],
      "text/plain": [
       "   Recency  Frequency  Monetary  Time        Class\n",
       "0        2         50     12500    98      donated\n",
       "1        0         13      3250    28      donated\n",
       "2        1         16      4000    35      donated\n",
       "3        2         20      5000    45      donated\n",
       "4        1         24      6000    77  not donated"
      ]
     },
     "execution_count": 3,
     "metadata": {},
     "output_type": "execute_result"
    }
   ],
   "source": [
    "blood_transfusion.head()"
   ]
  },
  {
   "cell_type": "code",
   "execution_count": 4,
   "metadata": {
    "scrolled": true
   },
   "outputs": [
    {
     "data": {
      "text/plain": [
       "count             748\n",
       "unique              2\n",
       "top       not donated\n",
       "freq              570\n",
       "Name: Class, dtype: object"
      ]
     },
     "execution_count": 4,
     "metadata": {},
     "output_type": "execute_result"
    }
   ],
   "source": [
    "blood_transfusion['Class'].describe()"
   ]
  },
  {
   "cell_type": "code",
   "execution_count": 5,
   "metadata": {},
   "outputs": [
    {
     "data": {
      "text/plain": [
       "not donated    570\n",
       "donated        178\n",
       "Name: Class, dtype: int64"
      ]
     },
     "execution_count": 5,
     "metadata": {},
     "output_type": "execute_result"
    }
   ],
   "source": [
    "blood_transfusion['Class'].value_counts()"
   ]
  },
  {
   "cell_type": "code",
   "execution_count": 6,
   "metadata": {},
   "outputs": [
    {
     "data": {
      "text/plain": [
       "{'fit_time': array([0.00109625, 0.00070071, 0.00068021, 0.00067639, 0.00067282,\n",
       "        0.00067091, 0.00068521, 0.00066233, 0.00066924, 0.00065947]),\n",
       " 'score_time': array([0.00038576, 0.00029182, 0.00029302, 0.00029349, 0.00028396,\n",
       "        0.00034714, 0.00028682, 0.00027943, 0.0002799 , 0.00032735]),\n",
       " 'test_score': array([0.76      , 0.76      , 0.76      , 0.76      , 0.76      ,\n",
       "        0.76      , 0.76      , 0.76      , 0.77027027, 0.77027027])}"
      ]
     },
     "execution_count": 6,
     "metadata": {},
     "output_type": "execute_result"
    }
   ],
   "source": [
    "from sklearn.dummy import DummyClassifier\n",
    "from sklearn.model_selection import cross_validate\n",
    "\n",
    "dummy_clf = DummyClassifier(strategy='most_frequent')\n",
    "\n",
    "cv_result =cross_validate(dummy_clf, data, target, cv = 10)\n",
    "cv_result"
   ]
  },
  {
   "cell_type": "code",
   "execution_count": 8,
   "metadata": {
    "scrolled": true
   },
   "outputs": [
    {
     "data": {
      "text/plain": [
       "{'fit_time': array([0.00105691, 0.00070715, 0.00066996, 0.00067019, 0.00068092,\n",
       "        0.00066113, 0.00066519, 0.00067735, 0.00068355, 0.0006597 ]),\n",
       " 'score_time': array([0.00080109, 0.00055337, 0.00054598, 0.00054717, 0.00055289,\n",
       "        0.00054646, 0.00054741, 0.00054121, 0.00054646, 0.00055027]),\n",
       " 'test_score': array([0.5, 0.5, 0.5, 0.5, 0.5, 0.5, 0.5, 0.5, 0.5, 0.5])}"
      ]
     },
     "execution_count": 8,
     "metadata": {},
     "output_type": "execute_result"
    }
   ],
   "source": [
    "cv_result_bal =cross_validate(dummy_clf, data, target, cv = 10, scoring='balanced_accuracy')\n",
    "cv_result_bal"
   ]
  },
  {
   "cell_type": "code",
   "execution_count": 12,
   "metadata": {},
   "outputs": [
    {
     "data": {
      "text/plain": [
       "{'fit_time': array([0.00400519, 0.00356913, 0.00340199, 0.00335169, 0.00335145,\n",
       "        0.00338721, 0.0033443 , 0.00333023, 0.00331831, 0.00333333]),\n",
       " 'score_time': array([0.00335836, 0.00316167, 0.0031569 , 0.0031476 , 0.00316381,\n",
       "        0.00317025, 0.00314617, 0.00311112, 0.0031302 , 0.00313544]),\n",
       " 'test_score': array([0.37333333, 0.4       , 0.56      , 0.70666667, 0.73333333,\n",
       "        0.76      , 0.68      , 0.78666667, 0.74324324, 0.78378378]),\n",
       " 'train_score': array([0.84249629, 0.81575037, 0.80534918, 0.82763744, 0.82020802,\n",
       "        0.82763744, 0.82169391, 0.8127786 , 0.82195846, 0.81750742])}"
      ]
     },
     "execution_count": 12,
     "metadata": {},
     "output_type": "execute_result"
    }
   ],
   "source": [
    "from sklearn.pipeline import make_pipeline\n",
    "from sklearn.preprocessing import StandardScaler\n",
    "from sklearn.neighbors import KNeighborsClassifier\n",
    "\n",
    "model = make_pipeline(StandardScaler(), KNeighborsClassifier())\n",
    "cv_result_mod = cross_validate(model, data, target, cv = 10, return_train_score=True)\n",
    "cv_result_mod"
   ]
  },
  {
   "cell_type": "code",
   "execution_count": 13,
   "metadata": {},
   "outputs": [
    {
     "data": {
      "text/html": [
       "<div>\n",
       "<style scoped>\n",
       "    .dataframe tbody tr th:only-of-type {\n",
       "        vertical-align: middle;\n",
       "    }\n",
       "\n",
       "    .dataframe tbody tr th {\n",
       "        vertical-align: top;\n",
       "    }\n",
       "\n",
       "    .dataframe thead th {\n",
       "        text-align: right;\n",
       "    }\n",
       "</style>\n",
       "<table border=\"1\" class=\"dataframe\">\n",
       "  <thead>\n",
       "    <tr style=\"text-align: right;\">\n",
       "      <th></th>\n",
       "      <th>fit_time</th>\n",
       "      <th>score_time</th>\n",
       "      <th>test_score</th>\n",
       "      <th>train_score</th>\n",
       "    </tr>\n",
       "  </thead>\n",
       "  <tbody>\n",
       "    <tr>\n",
       "      <th>0</th>\n",
       "      <td>0.004005</td>\n",
       "      <td>0.003358</td>\n",
       "      <td>0.373333</td>\n",
       "      <td>0.842496</td>\n",
       "    </tr>\n",
       "    <tr>\n",
       "      <th>1</th>\n",
       "      <td>0.003569</td>\n",
       "      <td>0.003162</td>\n",
       "      <td>0.400000</td>\n",
       "      <td>0.815750</td>\n",
       "    </tr>\n",
       "    <tr>\n",
       "      <th>2</th>\n",
       "      <td>0.003402</td>\n",
       "      <td>0.003157</td>\n",
       "      <td>0.560000</td>\n",
       "      <td>0.805349</td>\n",
       "    </tr>\n",
       "    <tr>\n",
       "      <th>3</th>\n",
       "      <td>0.003352</td>\n",
       "      <td>0.003148</td>\n",
       "      <td>0.706667</td>\n",
       "      <td>0.827637</td>\n",
       "    </tr>\n",
       "    <tr>\n",
       "      <th>4</th>\n",
       "      <td>0.003351</td>\n",
       "      <td>0.003164</td>\n",
       "      <td>0.733333</td>\n",
       "      <td>0.820208</td>\n",
       "    </tr>\n",
       "    <tr>\n",
       "      <th>5</th>\n",
       "      <td>0.003387</td>\n",
       "      <td>0.003170</td>\n",
       "      <td>0.760000</td>\n",
       "      <td>0.827637</td>\n",
       "    </tr>\n",
       "    <tr>\n",
       "      <th>6</th>\n",
       "      <td>0.003344</td>\n",
       "      <td>0.003146</td>\n",
       "      <td>0.680000</td>\n",
       "      <td>0.821694</td>\n",
       "    </tr>\n",
       "    <tr>\n",
       "      <th>7</th>\n",
       "      <td>0.003330</td>\n",
       "      <td>0.003111</td>\n",
       "      <td>0.786667</td>\n",
       "      <td>0.812779</td>\n",
       "    </tr>\n",
       "    <tr>\n",
       "      <th>8</th>\n",
       "      <td>0.003318</td>\n",
       "      <td>0.003130</td>\n",
       "      <td>0.743243</td>\n",
       "      <td>0.821958</td>\n",
       "    </tr>\n",
       "    <tr>\n",
       "      <th>9</th>\n",
       "      <td>0.003333</td>\n",
       "      <td>0.003135</td>\n",
       "      <td>0.783784</td>\n",
       "      <td>0.817507</td>\n",
       "    </tr>\n",
       "  </tbody>\n",
       "</table>\n",
       "</div>"
      ],
      "text/plain": [
       "   fit_time  score_time  test_score  train_score\n",
       "0  0.004005    0.003358    0.373333     0.842496\n",
       "1  0.003569    0.003162    0.400000     0.815750\n",
       "2  0.003402    0.003157    0.560000     0.805349\n",
       "3  0.003352    0.003148    0.706667     0.827637\n",
       "4  0.003351    0.003164    0.733333     0.820208\n",
       "5  0.003387    0.003170    0.760000     0.827637\n",
       "6  0.003344    0.003146    0.680000     0.821694\n",
       "7  0.003330    0.003111    0.786667     0.812779\n",
       "8  0.003318    0.003130    0.743243     0.821958\n",
       "9  0.003333    0.003135    0.783784     0.817507"
      ]
     },
     "execution_count": 13,
     "metadata": {},
     "output_type": "execute_result"
    }
   ],
   "source": [
    "cv_result_mod = pd.DataFrame(cv_result_mod)\n",
    "cv_result_mod"
   ]
  },
  {
   "cell_type": "code",
   "execution_count": 16,
   "metadata": {},
   "outputs": [],
   "source": [
    "from sklearn.model_selection import validation_curve\n",
    "import numpy as np\n",
    "\n",
    "param_range = [1, 2, 5, 10, 20, 50, 100, 200, 500]\n",
    "param_name = \"kneighborsclassifier__n_neighbors\"\n",
    "train_scores, test_scores = validation_curve(\n",
    "    model, data, target, param_name=param_name, param_range=param_range,\n",
    "    cv=5,scoring='balanced_accuracy')"
   ]
  },
  {
   "cell_type": "code",
   "execution_count": 22,
   "metadata": {},
   "outputs": [
    {
     "data": {
      "image/png": "[encoded data removed]",
      "text/plain": [
       "<Figure size 432x288 with 1 Axes>"
      ]
     },
     "metadata": {
      "needs_background": "light"
     },
     "output_type": "display_data"
    }
   ],
   "source": [
    "import matplotlib.pyplot as plt\n",
    "\n",
    "\n",
    "plt.errorbar(param_range, train_scores.mean(axis=1),\n",
    "             yerr=train_scores.std(axis=1), label='Training score')\n",
    "plt.errorbar(param_range, test_scores.mean(axis=1),\n",
    "             yerr=test_scores.std(axis=1), label='Testing score')\n",
    "plt.legend()\n",
    "\n",
    "plt.xscale(\"linear\")\n",
    "plt.xlabel(r\"Value of hyperparameter\")\n",
    "plt.ylabel(\"Accuracy score\")\n",
    "_ = plt.title(\"Validation score of Kneighbors Classifier\")"
   ]
  },
  {
   "cell_type": "code",
   "execution_count": 15,
   "metadata": {},
   "outputs": [
    {
     "data": {
      "text/plain": [
       "{'memory': None,\n",
       " 'steps': [('standardscaler', StandardScaler()),\n",
       "  ('kneighborsclassifier', KNeighborsClassifier())],\n",
       " 'verbose': False,\n",
       " 'standardscaler': StandardScaler(),\n",
       " 'kneighborsclassifier': KNeighborsClassifier(),\n",
       " 'standardscaler__copy': True,\n",
       " 'standardscaler__with_mean': True,\n",
       " 'standardscaler__with_std': True,\n",
       " 'kneighborsclassifier__algorithm': 'auto',\n",
       " 'kneighborsclassifier__leaf_size': 30,\n",
       " 'kneighborsclassifier__metric': 'minkowski',\n",
       " 'kneighborsclassifier__metric_params': None,\n",
       " 'kneighborsclassifier__n_jobs': None,\n",
       " 'kneighborsclassifier__n_neighbors': 5,\n",
       " 'kneighborsclassifier__p': 2,\n",
       " 'kneighborsclassifier__weights': 'uniform'}"
      ]
     },
     "execution_count": 15,
     "metadata": {},
     "output_type": "execute_result"
    }
   ],
   "source": [
    "model.get_params()"
   ]
  },
  {
   "cell_type": "code",
   "execution_count": null,
   "metadata": {},
   "outputs": [],
   "source": []
  }
 ],
 "metadata": {
  "kernelspec": {
   "display_name": "Python 3",
   "language": "python",
   "name": "python3"
  },
  "language_info": {
   "codemirror_mode": {
    "name": "ipython",
    "version": 3
   },
   "file_extension": ".py",
   "mimetype": "text/x-python",
   "name": "python",
   "nbconvert_exporter": "python",
   "pygments_lexer": "ipython3",
   "version": "3.9.2"
  }
 },
 "nbformat": 4,
 "nbformat_minor": 4
}
